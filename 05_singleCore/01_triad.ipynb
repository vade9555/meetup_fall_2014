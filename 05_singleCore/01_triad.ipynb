{
 "metadata": {
  "name": "",
  "signature": "sha256:1767d34f8355ae22cae3e1c271841afc956fef19c3ec2a92ea73a568b1765c0c"
 },
 "nbformat": 3,
 "nbformat_minor": 0,
 "worksheets": [
  {
   "cells": [
    {
     "cell_type": "heading",
     "level": 1,
     "metadata": {},
     "source": [
      "Serial triad on a Janus compute node"
     ]
    },
    {
     "cell_type": "markdown",
     "metadata": {},
     "source": [
      "Node specs:"
     ]
    },
    {
     "cell_type": "code",
     "collapsed": false,
     "input": [
      "!psinv"
     ],
     "language": "python",
     "metadata": {},
     "outputs": [
      {
       "output_type": "stream",
       "stream": "stdout",
       "text": [
        "System Information -\r\n",
        "Node Name:\t\tnode0226\r\n",
        "OS Name:\t\tLinux\r\n",
        "OS Release:\t\t2.6.32-279.5.2.el6.x86_64\r\n",
        "OS Build/Version:\t#1 SMP Tue Aug 14 11:36:39 EDT 2012\r\n",
        "OS Machine:\t\tx86_64\r\n",
        "Processors:\t\t12\r\n",
        "Total Memory (MB):\t24150.31\r\n",
        "System Page Size (KB):\t4.00\r\n",
        "\r\n",
        "Processor Information -\r\n",
        "Vendor:\t\t\tIntel\r\n",
        "Brand:\t\t\tIntel(R) Xeon(R) CPU           X5660  @ 2.80GHz\r\n",
        "CPUID info:\t\tfamily: 6, model: 44, stepping: 2\r\n",
        "Revision:\t\t2\r\n",
        "Clock Speed:\t\t2800.40 MHz\r\n",
        "\r\n",
        "Cache and TLB Information -\r\n",
        "Cache levels:\t\t3\r\n",
        "\r\n",
        "Cache Details -\r\n",
        "Level 1:\r\n",
        "\tType:\t\tInstruction\r\n",
        "\tSize:\t\t32 KB\r\n",
        "\tLine size:\t64 bytes\r\n",
        "\tAssociativity:\t4-way set associative\r\n",
        "\r\n",
        "\tType:\t\tData\r\n",
        "\tSize:\t\t32 KB\r\n",
        "\tLine size:\t64 bytes\r\n",
        "\tAssociativity:\t8-way set associative\r\n",
        "\r\n",
        "Level 2:\r\n",
        "\tType:\t\tUnified\r\n",
        "\tSize:\t\t256 KB\r\n",
        "\tLine size:\t64 bytes\r\n",
        "\tAssociativity:\t8-way set associative\r\n",
        "\r\n",
        "Level 3:\r\n",
        "\tType:\t\tUnified\r\n",
        "\tSize:\t\t12.00 MB\r\n",
        "\tLine size:\t64 bytes\r\n",
        "\tAssociativity:\t16-way set associative\r\n",
        "\r\n",
        "TLB Details -\r\n",
        "Level 1:\r\n",
        "\tType:\t\tInstruction\r\n",
        "\tEntries:\t128\r\n",
        "\tPagesize (KB):\t4 \r\n",
        "\tAssociativity:\t4-way set associative\r\n",
        "\r\n",
        "\tType:\t\tInstruction\r\n",
        "\tEntries:\t7\r\n",
        "\tPagesize (KB):\t2048 4096 \r\n",
        "\tAssociativity:\tFully associative\r\n",
        "\r\n",
        "\tType:\t\tData\r\n",
        "\tEntries:\t64\r\n",
        "\tPagesize (KB):\t4 \r\n",
        "\tAssociativity:\t4-way set associative\r\n",
        "\r\n",
        "\tType:\t\tData\r\n",
        "\tEntries:\t32\r\n",
        "\tPagesize (KB):\t2048 4096 \r\n",
        "\tAssociativity:\t4-way set associative\r\n",
        "\r\n",
        "Level 2:\r\n",
        "\tType:\t\tUnified\r\n",
        "\tEntries:\t512\r\n",
        "\tPagesize (KB):\t4 \r\n",
        "\tAssociativity:\t4-way set associative\r\n",
        "\r\n"
       ]
      }
     ],
     "prompt_number": 1
    },
    {
     "cell_type": "heading",
     "level": 1,
     "metadata": {},
     "source": [
      "The Benchmark Code triad.f90"
     ]
    },
    {
     "cell_type": "code",
     "collapsed": false,
     "input": [
      "%%file triad.f90\n",
      "!!!!!!!!!!!!!!!!!!!!!!!!!!!!!!!!!!!!!!!!!!!!!!!!!!!!!!!\n",
      "! triad.f90 simple benchmark code\n",
      "! G. Hager, 2010\n",
      "! modified Th. Hauser 2014\n",
      "!!!!!!!!!!!!!!!!!!!!!!!!!!!!!!!!!!!!!!!!!!!!!!!!!!!!!!!\n",
      "PROGRAM triad\n",
      "  IMPLICIT NONE\n",
      "\n",
      "  DOUBLE PRECISION, DIMENSION(:), ALLOCATABLE :: A,B,C,D\n",
      "! Intel-specific: 16-byte alignment of allocatables\n",
      "!DIR$ ATTRIBUTES ALIGN: 16 :: A\n",
      "!DIR$ ATTRIBUTES ALIGN: 16 :: B\n",
      "!DIR$ ATTRIBUTES ALIGN: 16 :: C\n",
      "!DIR$ ATTRIBUTES ALIGN: 16 :: D\n",
      "  DOUBLE PRECISION :: MFLOPS,WT\n",
      "  INTEGER :: n,i\n",
      "  INTEGER(kind=8) :: r\n",
      "\n",
      "  READ *,n\n",
      "\n",
      "  ALLOCATE(A(1:n), B(1:n), C(1:n),D(1:n))\n",
      "\n",
      "  DO i=1,N\n",
      "     A(i) = 0.d0; B(i) = 1.d0\n",
      "     C(i) = 2.d0; D(i) = 3.d0\n",
      "  ENDDO\n",
      "\n",
      "  R = 1\n",
      "\n",
      "  ! warm up\n",
      "  CALL do_triad(A,B,C,D,N,R,WT)\n",
      "\n",
      "  DO\n",
      "    CALL do_triad(A,B,C,D,N,R,WT)\n",
      "     ! exit if duration was above some limit\n",
      "     IF(WT.GE.1.0d0) EXIT\n",
      "     ! else do it again with doubled repeat count\n",
      "     R = R*2\n",
      "  ENDDO\n",
      "\n",
      "  MFLOPS = R*N*2.d0/(WT*1.d6) ! compute MFlop/sec rate\n",
      "  PRINT *, \"Length: \",N,\"   MFLOP/s: \",MFLOPS\n",
      "  DEALLOCATE(A,B,C,D)\n",
      "\n",
      "contains\n",
      "\n",
      "  SUBROUTINE do_triad(A,B,C,D,N,R,WT)\n",
      "    IMPLICIT NONE\n",
      "    INTEGER, INTENT(in) :: N\n",
      "    INTEGER(kind=8), INTENT(in) :: R\n",
      "    DOUBLE PRECISION, DIMENSION(N), INTENT(out) :: A\n",
      "    DOUBLE PRECISION, DIMENSION(N), INTENT(in) :: B,C,D\n",
      "    DOUBLE PRECISION, INTENT(out) :: WT\n",
      "    INTEGER :: N2\n",
      "    ! assume 4MB outer level cache\n",
      "    INTEGER :: i\n",
      "    INTEGER(kind=8) :: j\n",
      "    integer :: clock_start, clock_rate, clock_max, clock_end\n",
      "\n",
      "    N2 = N/2\n",
      "\n",
      "    call system_clock(clock_start, clock_rate, clock_max)\n",
      "\n",
      "    DO j=1,R\n",
      "       !DIR$ vector temporal\n",
      "       DO i=1,N\n",
      "          A(i) = B(i) + C(i) * D(i)\n",
      "       ENDDO\n",
      "       ! prevent loop interchange\n",
      "       IF(A(N2).LT.0) CALL dummy(A,B,C,D)\n",
      "    ENDDO\n",
      "\n",
      "    call  system_clock(clock_end, clock_rate, clock_max)\n",
      "\n",
      "    WT = real(clock_end - clock_start) / real(clock_rate)\n",
      "\n",
      "END SUBROUTINE do_triad\n",
      "\n",
      "subroutine dummy(A,B,C,D)\n",
      "  DOUBLE PRECISION, DIMENSION(N), INTENT(in) :: A\n",
      "  DOUBLE PRECISION, DIMENSION(N), INTENT(in) :: B,C,D\n",
      "\n",
      "  print *, a, b, c, d\n",
      "\n",
      "end subroutine dummy\n",
      "\n",
      "END PROGRAM triad"
     ],
     "language": "python",
     "metadata": {},
     "outputs": [
      {
       "output_type": "stream",
       "stream": "stdout",
       "text": [
        "Overwriting triad.f90\n"
       ]
      }
     ],
     "prompt_number": 2
    },
    {
     "cell_type": "markdown",
     "metadata": {},
     "source": [
      "## Compiling\n",
      "\n",
      "- Optimized\n",
      "- Non-optimized"
     ]
    },
    {
     "cell_type": "code",
     "collapsed": false,
     "input": [
      "!ifort -Ofast -simd -xhost -vec_report=3 triad.f90 -o triad_fast.exe"
     ],
     "language": "python",
     "metadata": {},
     "outputs": [
      {
       "output_type": "stream",
       "stream": "stdout",
       "text": [
        "triad.f90(25): (col. 19) remark: LOOP WAS VECTORIZED.\r\n",
        "triad.f90(31): (col. 8) remark: LOOP WAS VECTORIZED.\r\n",
        "triad.f90(34): (col. 10) remark: LOOP WAS VECTORIZED.\r\n",
        "triad.f90(34): (col. 10) remark: loop was not vectorized: not inner loop.\r\n",
        "triad.f90(34): (col. 10) remark: loop was not vectorized: not inner loop.\r\n"
       ]
      }
     ],
     "prompt_number": 3
    },
    {
     "cell_type": "code",
     "collapsed": false,
     "input": [
      "!ifort -O -no-vec -vec_report=3 triad.f90 -o triad_slow.exe"
     ],
     "language": "python",
     "metadata": {},
     "outputs": [],
     "prompt_number": 4
    },
    {
     "cell_type": "heading",
     "level": 1,
     "metadata": {},
     "source": [
      "Running the Experiment"
     ]
    },
    {
     "cell_type": "code",
     "collapsed": false,
     "input": [
      "import numpy as np\n",
      "\n",
      "points = np.logspace(1,7,100)\n",
      "points = points.astype(int)\n",
      "\n",
      "print points\n",
      "\n",
      "results_fast = []\n",
      "results_slow = []\n",
      "\n",
      "for i in points:\n",
      "    print i\n",
      "    rf = !echo {i} | ./triad_fast.exe\n",
      "    results_fast.append(rf)\n",
      "    rs = !echo {i} | ./triad_slow.exe\n",
      "    results_slow.append(rs)\n"
     ],
     "language": "python",
     "metadata": {},
     "outputs": [
      {
       "output_type": "stream",
       "stream": "stdout",
       "text": [
        "[      10       11       13       15       17       20       23       26\n",
        "       30       35       40       46       53       61       70       81\n",
        "       93      107      123      141      162      187      215      247\n",
        "      284      327      376      432      497      572      657      756\n",
        "      869     1000     1149     1321     1519     1747     2009     2310\n",
        "     2656     3053     3511     4037     4641     5336     6135     7054\n",
        "     8111     9326    10722    12328    14174    16297    18738    21544\n",
        "    24770    28480    32745    37649    43287    49770    57223    65793\n",
        "    75646    86974   100000   114975   132194   151991   174752   200923\n",
        "   231012   265608   305385   351119   403701   464158   533669   613590\n",
        "   705480   811130   932603  1072267  1232846  1417474  1629750  1873817\n",
        "  2154434  2477076  2848035  3274549  3764935  4328761  4977023  5722367\n",
        "  6579332  7564633  8697490 10000000]\n",
        "10\n"
       ]
      },
      {
       "output_type": "stream",
       "stream": "stdout",
       "text": [
        "11\n"
       ]
      },
      {
       "output_type": "stream",
       "stream": "stdout",
       "text": [
        "13\n"
       ]
      },
      {
       "output_type": "stream",
       "stream": "stdout",
       "text": [
        "15\n"
       ]
      },
      {
       "output_type": "stream",
       "stream": "stdout",
       "text": [
        "17\n"
       ]
      },
      {
       "output_type": "stream",
       "stream": "stdout",
       "text": [
        "20\n"
       ]
      },
      {
       "output_type": "stream",
       "stream": "stdout",
       "text": [
        "23\n"
       ]
      },
      {
       "output_type": "stream",
       "stream": "stdout",
       "text": [
        "26\n"
       ]
      },
      {
       "output_type": "stream",
       "stream": "stdout",
       "text": [
        "30\n"
       ]
      },
      {
       "output_type": "stream",
       "stream": "stdout",
       "text": [
        "35\n"
       ]
      },
      {
       "output_type": "stream",
       "stream": "stdout",
       "text": [
        "40\n"
       ]
      },
      {
       "output_type": "stream",
       "stream": "stdout",
       "text": [
        "46\n"
       ]
      },
      {
       "output_type": "stream",
       "stream": "stdout",
       "text": [
        "53\n"
       ]
      },
      {
       "output_type": "stream",
       "stream": "stdout",
       "text": [
        "61\n"
       ]
      },
      {
       "output_type": "stream",
       "stream": "stdout",
       "text": [
        "70\n"
       ]
      },
      {
       "output_type": "stream",
       "stream": "stdout",
       "text": [
        "81\n"
       ]
      },
      {
       "output_type": "stream",
       "stream": "stdout",
       "text": [
        "93\n"
       ]
      },
      {
       "output_type": "stream",
       "stream": "stdout",
       "text": [
        "107\n"
       ]
      },
      {
       "output_type": "stream",
       "stream": "stdout",
       "text": [
        "123\n"
       ]
      },
      {
       "output_type": "stream",
       "stream": "stdout",
       "text": [
        "141\n"
       ]
      },
      {
       "output_type": "stream",
       "stream": "stdout",
       "text": [
        "162\n"
       ]
      },
      {
       "output_type": "stream",
       "stream": "stdout",
       "text": [
        "187\n"
       ]
      },
      {
       "output_type": "stream",
       "stream": "stdout",
       "text": [
        "215\n"
       ]
      },
      {
       "output_type": "stream",
       "stream": "stdout",
       "text": [
        "247\n"
       ]
      },
      {
       "output_type": "stream",
       "stream": "stdout",
       "text": [
        "284\n"
       ]
      },
      {
       "output_type": "stream",
       "stream": "stdout",
       "text": [
        "327\n"
       ]
      },
      {
       "output_type": "stream",
       "stream": "stdout",
       "text": [
        "376\n"
       ]
      },
      {
       "output_type": "stream",
       "stream": "stdout",
       "text": [
        "432\n"
       ]
      },
      {
       "output_type": "stream",
       "stream": "stdout",
       "text": [
        "497\n"
       ]
      },
      {
       "output_type": "stream",
       "stream": "stdout",
       "text": [
        "572\n"
       ]
      },
      {
       "output_type": "stream",
       "stream": "stdout",
       "text": [
        "657\n"
       ]
      },
      {
       "output_type": "stream",
       "stream": "stdout",
       "text": [
        "756\n"
       ]
      },
      {
       "output_type": "stream",
       "stream": "stdout",
       "text": [
        "869\n"
       ]
      },
      {
       "output_type": "stream",
       "stream": "stdout",
       "text": [
        "1000\n"
       ]
      },
      {
       "output_type": "stream",
       "stream": "stdout",
       "text": [
        "1149\n"
       ]
      },
      {
       "output_type": "stream",
       "stream": "stdout",
       "text": [
        "1321\n"
       ]
      },
      {
       "output_type": "stream",
       "stream": "stdout",
       "text": [
        "1519\n"
       ]
      },
      {
       "output_type": "stream",
       "stream": "stdout",
       "text": [
        "1747\n"
       ]
      },
      {
       "output_type": "stream",
       "stream": "stdout",
       "text": [
        "2009\n"
       ]
      },
      {
       "output_type": "stream",
       "stream": "stdout",
       "text": [
        "2310\n"
       ]
      },
      {
       "output_type": "stream",
       "stream": "stdout",
       "text": [
        "2656\n"
       ]
      },
      {
       "output_type": "stream",
       "stream": "stdout",
       "text": [
        "3053\n"
       ]
      },
      {
       "output_type": "stream",
       "stream": "stdout",
       "text": [
        "3511\n"
       ]
      },
      {
       "output_type": "stream",
       "stream": "stdout",
       "text": [
        "4037\n"
       ]
      },
      {
       "output_type": "stream",
       "stream": "stdout",
       "text": [
        "4641\n"
       ]
      },
      {
       "output_type": "stream",
       "stream": "stdout",
       "text": [
        "5336\n"
       ]
      },
      {
       "output_type": "stream",
       "stream": "stdout",
       "text": [
        "6135\n"
       ]
      },
      {
       "output_type": "stream",
       "stream": "stdout",
       "text": [
        "7054\n"
       ]
      },
      {
       "output_type": "stream",
       "stream": "stdout",
       "text": [
        "8111\n"
       ]
      },
      {
       "output_type": "stream",
       "stream": "stdout",
       "text": [
        "9326\n"
       ]
      },
      {
       "output_type": "stream",
       "stream": "stdout",
       "text": [
        "10722\n"
       ]
      },
      {
       "output_type": "stream",
       "stream": "stdout",
       "text": [
        "12328\n"
       ]
      },
      {
       "output_type": "stream",
       "stream": "stdout",
       "text": [
        "14174\n"
       ]
      },
      {
       "output_type": "stream",
       "stream": "stdout",
       "text": [
        "16297\n"
       ]
      },
      {
       "output_type": "stream",
       "stream": "stdout",
       "text": [
        "18738\n"
       ]
      },
      {
       "output_type": "stream",
       "stream": "stdout",
       "text": [
        "21544\n"
       ]
      },
      {
       "output_type": "stream",
       "stream": "stdout",
       "text": [
        "24770\n"
       ]
      },
      {
       "output_type": "stream",
       "stream": "stdout",
       "text": [
        "28480\n"
       ]
      },
      {
       "output_type": "stream",
       "stream": "stdout",
       "text": [
        "32745\n"
       ]
      },
      {
       "output_type": "stream",
       "stream": "stdout",
       "text": [
        "37649\n"
       ]
      },
      {
       "output_type": "stream",
       "stream": "stdout",
       "text": [
        "43287\n"
       ]
      },
      {
       "output_type": "stream",
       "stream": "stdout",
       "text": [
        "49770\n"
       ]
      },
      {
       "output_type": "stream",
       "stream": "stdout",
       "text": [
        "57223\n"
       ]
      },
      {
       "output_type": "stream",
       "stream": "stdout",
       "text": [
        "65793\n"
       ]
      },
      {
       "output_type": "stream",
       "stream": "stdout",
       "text": [
        "75646\n"
       ]
      },
      {
       "output_type": "stream",
       "stream": "stdout",
       "text": [
        "86974\n"
       ]
      },
      {
       "output_type": "stream",
       "stream": "stdout",
       "text": [
        "100000\n"
       ]
      },
      {
       "output_type": "stream",
       "stream": "stdout",
       "text": [
        "114975\n"
       ]
      },
      {
       "output_type": "stream",
       "stream": "stdout",
       "text": [
        "132194\n"
       ]
      },
      {
       "output_type": "stream",
       "stream": "stdout",
       "text": [
        "151991\n"
       ]
      },
      {
       "output_type": "stream",
       "stream": "stdout",
       "text": [
        "174752\n"
       ]
      },
      {
       "output_type": "stream",
       "stream": "stdout",
       "text": [
        "200923\n"
       ]
      },
      {
       "output_type": "stream",
       "stream": "stdout",
       "text": [
        "231012\n"
       ]
      },
      {
       "output_type": "stream",
       "stream": "stdout",
       "text": [
        "265608\n"
       ]
      },
      {
       "output_type": "stream",
       "stream": "stdout",
       "text": [
        "305385\n"
       ]
      },
      {
       "output_type": "stream",
       "stream": "stdout",
       "text": [
        "351119\n"
       ]
      },
      {
       "output_type": "stream",
       "stream": "stdout",
       "text": [
        "403701\n"
       ]
      },
      {
       "output_type": "stream",
       "stream": "stdout",
       "text": [
        "464158\n"
       ]
      },
      {
       "output_type": "stream",
       "stream": "stdout",
       "text": [
        "533669\n"
       ]
      },
      {
       "output_type": "stream",
       "stream": "stdout",
       "text": [
        "613590\n"
       ]
      },
      {
       "output_type": "stream",
       "stream": "stdout",
       "text": [
        "705480\n"
       ]
      },
      {
       "output_type": "stream",
       "stream": "stdout",
       "text": [
        "811130\n"
       ]
      },
      {
       "output_type": "stream",
       "stream": "stdout",
       "text": [
        "932603\n"
       ]
      },
      {
       "output_type": "stream",
       "stream": "stdout",
       "text": [
        "1072267\n"
       ]
      },
      {
       "output_type": "stream",
       "stream": "stdout",
       "text": [
        "1232846\n"
       ]
      },
      {
       "output_type": "stream",
       "stream": "stdout",
       "text": [
        "1417474\n"
       ]
      },
      {
       "output_type": "stream",
       "stream": "stdout",
       "text": [
        "1629750\n"
       ]
      },
      {
       "output_type": "stream",
       "stream": "stdout",
       "text": [
        "1873817\n"
       ]
      },
      {
       "output_type": "stream",
       "stream": "stdout",
       "text": [
        "2154434\n"
       ]
      },
      {
       "output_type": "stream",
       "stream": "stdout",
       "text": [
        "2477076\n"
       ]
      },
      {
       "output_type": "stream",
       "stream": "stdout",
       "text": [
        "2848035\n"
       ]
      },
      {
       "output_type": "stream",
       "stream": "stdout",
       "text": [
        "3274549\n"
       ]
      },
      {
       "output_type": "stream",
       "stream": "stdout",
       "text": [
        "3764935\n"
       ]
      },
      {
       "output_type": "stream",
       "stream": "stdout",
       "text": [
        "4328761\n"
       ]
      },
      {
       "output_type": "stream",
       "stream": "stdout",
       "text": [
        "4977023\n"
       ]
      },
      {
       "output_type": "stream",
       "stream": "stdout",
       "text": [
        "5722367\n"
       ]
      },
      {
       "output_type": "stream",
       "stream": "stdout",
       "text": [
        "6579332\n"
       ]
      },
      {
       "output_type": "stream",
       "stream": "stdout",
       "text": [
        "7564633\n"
       ]
      },
      {
       "output_type": "stream",
       "stream": "stdout",
       "text": [
        "8697490\n"
       ]
      },
      {
       "output_type": "stream",
       "stream": "stdout",
       "text": [
        "10000000\n"
       ]
      }
     ],
     "prompt_number": 5
    },
    {
     "cell_type": "heading",
     "level": 1,
     "metadata": {},
     "source": [
      "Plotting the results"
     ]
    },
    {
     "cell_type": "code",
     "collapsed": false,
     "input": [
      "%pylab inline\n",
      "import string\n",
      "import matplotlib\n",
      "import matplotlib.pylab as plt\n",
      "import numpy as np\n",
      "\n",
      "length = []\n",
      "mflops_fast = []\n",
      "mflops_slow = []\n",
      "\n",
      "for i in results_fast:\n",
      "    isl, il, iml, imf = string.split(i[0])\n",
      "    length.append(string.atoi(il))\n",
      "    mflops_fast.append(string.atof(imf))\n",
      "\n",
      "for j in results_slow:    \n",
      "    jsl, jl, jml, jmf = string.split(j[0])\n",
      "    mflops_slow.append(string.atof(jmf))\n",
      "    \n",
      "plt.plot(length, mflops_fast, '-rs', label = 'vectorized')\n",
      "plt.plot(length, mflops_slow, '-bs', label = 'non-vectorized')\n",
      "plt.xlabel('N')\n",
      "plt.ylabel('MFlops/sec')\n",
      "plt.title('Intel(R) Xeon(R) CPU X5660  @ 2.80GHz')\n",
      "plt.legend(loc='upper right', shadow=True)\n",
      "plt.xscale('log')\n"
     ],
     "language": "python",
     "metadata": {},
     "outputs": [
      {
       "output_type": "stream",
       "stream": "stdout",
       "text": [
        "Populating the interactive namespace from numpy and matplotlib\n"
       ]
      },
      {
       "output_type": "stream",
       "stream": "stderr",
       "text": [
        "WARNING: pylab import has clobbered these variables: ['plt']\n",
        "`%matplotlib` prevents importing * from pylab and numpy\n"
       ]
      },
      {
       "metadata": {},
       "output_type": "display_data",
       "png": "[encoded data removed]",
       "text": [
        "<matplotlib.figure.Figure at 0x2b252403a6d0>"
       ]
      }
     ],
     "prompt_number": 15
    },
    {
     "cell_type": "code",
     "collapsed": false,
     "input": [],
     "language": "python",
     "metadata": {},
     "outputs": []
    }
   ],
   "metadata": {}
  }
 ]
}