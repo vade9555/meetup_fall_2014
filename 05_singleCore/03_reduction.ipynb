{
 "metadata": {
  "name": "",
  "signature": "sha256:179e9b96395d690ea171af8feb4d74882755d74896afd152b729b1037e57a065"
 },
 "nbformat": 3,
 "nbformat_minor": 0,
 "worksheets": [
  {
   "cells": [
    {
     "cell_type": "heading",
     "level": 1,
     "metadata": {},
     "source": [
      "Reduction Benchmark"
     ]
    },
    {
     "cell_type": "code",
     "collapsed": false,
     "input": [
      "!psinv"
     ],
     "language": "python",
     "metadata": {},
     "outputs": [
      {
       "output_type": "stream",
       "stream": "stdout",
       "text": [
        "Hardware:\r\n",
        "\r\n",
        "    Hardware Overview:\r\n",
        "\r\n",
        "      Model Name: MacBook Pro\r\n",
        "      Model Identifier: MacBookPro10,1\r\n",
        "      Processor Name: Intel Core i7\r\n",
        "      Processor Speed: 2.4 GHz\r\n",
        "      Number of Processors: 1\r\n",
        "      Total Number of Cores: 4\r\n",
        "      L2 Cache (per Core): 256 KB\r\n",
        "      L3 Cache: 6 MB\r\n",
        "      Memory: 16 GB\r\n",
        "      Boot ROM Version: MBP101.00EE.B03\r\n",
        "      SMC Version (system): 2.3f36\r\n",
        "      Serial Number (system): C02L61PEFFT3\r\n",
        "      Hardware UUID: 4927DF57-2AE9-58A2-9839-60CDB991025A\r\n",
        "\r\n"
       ]
      }
     ],
     "prompt_number": 1
    },
    {
     "cell_type": "heading",
     "level": 1,
     "metadata": {},
     "source": [
      "The Benchmark Code reduce.f90"
     ]
    },
    {
     "cell_type": "code",
     "collapsed": false,
     "input": [
      "%%file reduce.f90\n",
      "!!!!!!!!!!!!!!!!!!!!!!!!!!!!!!!!!!!!!!!!!!!!!!!!!!!!!!!\n",
      "! depend.f90 simple benchmark code\n",
      "! G. Hager, 2010\n",
      "! modified Th. Hauser 2014\n",
      "!!!!!!!!!!!!!!!!!!!!!!!!!!!!!!!!!!!!!!!!!!!!!!!!!!!!!!!\n",
      "PROGRAM depend\n",
      "  IMPLICIT NONE\n",
      "\n",
      "  DOUBLE PRECISION, DIMENSION(:), ALLOCATABLE :: A\n",
      "  DOUBLE PRECISION :: s\n",
      "! Intel-specific: 16-byte alignment of allocatables\n",
      "!DIR$ ATTRIBUTES ALIGN: 16 :: A\n",
      "  DOUBLE PRECISION :: MFLOPS,WT\n",
      "  INTEGER :: n,i\n",
      "  INTEGER(kind=8) :: r\n",
      "\n",
      "  READ *,n\n",
      "\n",
      "  ALLOCATE(A(1:n))\n",
      "\n",
      "  DO i=1,N\n",
      "     A(i) = 1.d0\n",
      "  ENDDO\n",
      "\n",
      "  R = 1\n",
      "\n",
      "  ! warm up\n",
      "  CALL do_reduce(S,A,N,R,WT)\n",
      "\n",
      "  DO\n",
      "    CALL do_reduce(S,A,N,R,WT)\n",
      "     ! exit if duration was above some limit\n",
      "     IF(WT.GE.1.0d0) EXIT\n",
      "     ! else do it again with doubled repeat count\n",
      "     R = R*2\n",
      "  ENDDO\n",
      "\n",
      "  MFLOPS = R*N*1.d0/(WT*1.d6) ! compute MFlop/sec rate\n",
      "  PRINT *, \"Length: \",N,\"   MFLOP/s: \",MFLOPS\n",
      "  DEALLOCATE(A)\n",
      "\n",
      "contains\n",
      "\n",
      "  SUBROUTINE do_reduce(S,A,N,R,WT)\n",
      "    IMPLICIT NONE\n",
      "    DOUBLE PRECISION, INTENT(OUT) :: S\n",
      "    INTEGER, INTENT(in) :: N\n",
      "    INTEGER(kind=8), INTENT(in) :: R\n",
      "    DOUBLE PRECISION, DIMENSION(N), INTENT(in) :: A\n",
      "    DOUBLE PRECISION, INTENT(out) :: WT\n",
      "    INTEGER :: N2\n",
      "    ! assume 4MB outer level cache\n",
      "    INTEGER :: i\n",
      "    INTEGER(kind=8) :: j\n",
      "    integer :: clock_start, clock_rate, clock_max, clock_end\n",
      "\n",
      "    N2 = N/2\n",
      "\n",
      "    call system_clock(clock_start, clock_rate, clock_max)\n",
      "\n",
      "    DO j=1,R\n",
      "       !DIR$ vector temporal\n",
      "       DO i=1,N\n",
      "          s = s + A(i)*A(i)\n",
      "       ENDDO\n",
      "       ! prevent loop interchange\n",
      "       IF(A(N2).LT.0) CALL dummy(s, A)\n",
      "    ENDDO\n",
      "\n",
      "    call  system_clock(clock_end, clock_rate, clock_max)\n",
      "\n",
      "    WT = real(clock_end - clock_start) / real(clock_rate)\n",
      "\n",
      "END SUBROUTINE do_reduce\n",
      "\n",
      "subroutine dummy(s,A)\n",
      "  DOUBLE PRECISION, INTENT(INOUT) :: S\n",
      "  DOUBLE PRECISION, DIMENSION(N), INTENT(in) :: A\n",
      "            \n",
      "  print *, s, a\n",
      "\n",
      "end subroutine dummy\n",
      "\n",
      "END PROGRAM reduce"
     ],
     "language": "python",
     "metadata": {},
     "outputs": [
      {
       "output_type": "stream",
       "stream": "stdout",
       "text": [
        "Overwriting reduce.f90\n"
       ]
      }
     ],
     "prompt_number": 3
    },
    {
     "cell_type": "code",
     "collapsed": false,
     "input": [
      "!ifort -Ofast -simd -xhost -vec_report=3 depend.f90 -o reduce.exe"
     ],
     "language": "python",
     "metadata": {},
     "outputs": [
      {
       "output_type": "stream",
       "stream": "stdout",
       "text": [
        "depend.f90(21): (col. 6) remark: LOOP WAS VECTORIZED.\r\n",
        "depend.f90(27): (col. 8) remark: loop was not vectorized: existence of vector dependence.\r\n",
        "depend.f90(27): (col. 8) remark: vector dependence: assumed FLOW dependence between depend line 27 and depend line 27.\r\n",
        "depend.f90(30): (col. 10) remark: loop was not vectorized: existence of vector dependence.\r\n",
        "depend.f90(30): (col. 10) remark: vector dependence: assumed FLOW dependence between depend line 30 and depend line 30.\r\n",
        "depend.f90(30): (col. 10) remark: vector dependence: assumed ANTI dependence between depend line 30 and depend line 30.\r\n",
        "depend.f90(30): (col. 10) remark: vector dependence: assumed FLOW dependence between depend line 30 and depend line 30.\r\n",
        "depend.f90(30): (col. 10) remark: vector dependence: assumed ANTI dependence between depend line 30 and depend line 30.\r\n",
        "depend.f90(30): (col. 10) remark: vector dependence: assumed FLOW dependence between depend line 30 and depend line 30.\r\n",
        "depend.f90(30): (col. 10) remark: vector dependence: assumed ANTI dependence between depend line 30 and depend line 30.\r\n",
        "depend.f90(30): (col. 10) remark: loop was not vectorized: not inner loop.\r\n",
        "depend.f90(30): (col. 10) remark: loop was not vectorized: unsupported loop structure.\r\n"
       ]
      }
     ],
     "prompt_number": 4
    },
    {
     "cell_type": "heading",
     "level": 1,
     "metadata": {},
     "source": [
      "Running the experiment"
     ]
    },
    {
     "cell_type": "code",
     "collapsed": false,
     "input": [
      "import numpy as np\n",
      "\n",
      "points = np.logspace(1,7,100)\n",
      "points = points.astype(int)\n",
      "\n",
      "print points\n",
      "\n",
      "results = []\n",
      "\n",
      "for i in points:\n",
      "    print i\n",
      "    r = !echo {i} | ./depend.exe\n",
      "    results.append(r)\n",
      "print results"
     ],
     "language": "python",
     "metadata": {},
     "outputs": [
      {
       "output_type": "stream",
       "stream": "stdout",
       "text": [
        "[      10       11       13       15       17       20       23       26\n",
        "       30       35       40       46       53       61       70       81\n",
        "       93      107      123      141      162      187      215      247\n",
        "      284      327      376      432      497      572      657      756\n",
        "      869     1000     1149     1321     1519     1747     2009     2310\n",
        "     2656     3053     3511     4037     4641     5336     6135     7054\n",
        "     8111     9326    10722    12328    14174    16297    18738    21544\n",
        "    24770    28480    32745    37649    43287    49770    57223    65793\n",
        "    75646    86974   100000   114975   132194   151991   174752   200923\n",
        "   231012   265608   305385   351119   403701   464158   533669   613590\n",
        "   705480   811130   932603  1072267  1232846  1417474  1629750  1873817\n",
        "  2154434  2477076  2848035  3274549  3764935  4328761  4977023  5722367\n",
        "  6579332  7564633  8697490 10000000]\n",
        "10\n"
       ]
      },
      {
       "output_type": "stream",
       "stream": "stdout",
       "text": [
        "11\n"
       ]
      },
      {
       "output_type": "stream",
       "stream": "stdout",
       "text": [
        "13\n"
       ]
      },
      {
       "output_type": "stream",
       "stream": "stdout",
       "text": [
        "15\n"
       ]
      },
      {
       "output_type": "stream",
       "stream": "stdout",
       "text": [
        "17\n"
       ]
      },
      {
       "output_type": "stream",
       "stream": "stdout",
       "text": [
        "20\n"
       ]
      },
      {
       "output_type": "stream",
       "stream": "stdout",
       "text": [
        "23\n"
       ]
      },
      {
       "output_type": "stream",
       "stream": "stdout",
       "text": [
        "26\n"
       ]
      },
      {
       "output_type": "stream",
       "stream": "stdout",
       "text": [
        "30\n"
       ]
      },
      {
       "output_type": "stream",
       "stream": "stdout",
       "text": [
        "35\n"
       ]
      },
      {
       "output_type": "stream",
       "stream": "stdout",
       "text": [
        "40\n"
       ]
      },
      {
       "output_type": "stream",
       "stream": "stdout",
       "text": [
        "46\n"
       ]
      },
      {
       "output_type": "stream",
       "stream": "stdout",
       "text": [
        "53\n"
       ]
      },
      {
       "output_type": "stream",
       "stream": "stdout",
       "text": [
        "61\n"
       ]
      },
      {
       "output_type": "stream",
       "stream": "stdout",
       "text": [
        "70\n"
       ]
      },
      {
       "output_type": "stream",
       "stream": "stdout",
       "text": [
        "81\n"
       ]
      },
      {
       "output_type": "stream",
       "stream": "stdout",
       "text": [
        "93\n"
       ]
      },
      {
       "output_type": "stream",
       "stream": "stdout",
       "text": [
        "107\n"
       ]
      },
      {
       "output_type": "stream",
       "stream": "stdout",
       "text": [
        "123\n"
       ]
      },
      {
       "output_type": "stream",
       "stream": "stdout",
       "text": [
        "141\n"
       ]
      },
      {
       "output_type": "stream",
       "stream": "stdout",
       "text": [
        "162\n"
       ]
      },
      {
       "output_type": "stream",
       "stream": "stdout",
       "text": [
        "187\n"
       ]
      },
      {
       "output_type": "stream",
       "stream": "stdout",
       "text": [
        "215\n"
       ]
      }
     ]
    },
    {
     "cell_type": "heading",
     "level": 1,
     "metadata": {},
     "source": [
      "Plotting the results"
     ]
    },
    {
     "cell_type": "code",
     "collapsed": false,
     "input": [
      "%pylab inline\n",
      "import string\n",
      "import matplotlib\n",
      "import matplotlib.pylab as plt\n",
      "import numpy as np\n",
      "\n",
      "length = []\n",
      "mflops = []\n",
      "\n",
      "for i in results:\n",
      "    sl, l, ml, mf = string.split(i[0])\n",
      "    length.append(string.atoi(l))\n",
      "    mflops.append(string.atof(mf))\n",
      "    \n",
      "plt.plot(length, mflops, '-bs', label = 'dependency - not vectorized')\n",
      "plt.xlabel('N')\n",
      "plt.ylabel('MFlops/sec')\n",
      "plt.title('Intel(R) Xeon(R) CPU X5660 @ 2.80GHz')\n",
      "plt.legend(loc=3, shadow=True)\n",
      "plt.xscale('log')\n"
     ],
     "language": "python",
     "metadata": {},
     "outputs": [
      {
       "output_type": "stream",
       "stream": "stdout",
       "text": [
        "Populating the interactive namespace from numpy and matplotlib\n"
       ]
      },
      {
       "metadata": {},
       "output_type": "display_data",
       "png": "[encoded data removed]",
       "text": [
        "<matplotlib.figure.Figure at 0x1108f1a90>"
       ]
      }
     ],
     "prompt_number": 4
    },
    {
     "cell_type": "code",
     "collapsed": false,
     "input": [],
     "language": "python",
     "metadata": {},
     "outputs": []
    }
   ],
   "metadata": {}
  }
 ]
}