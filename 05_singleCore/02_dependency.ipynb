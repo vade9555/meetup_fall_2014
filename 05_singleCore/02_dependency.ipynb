{
 "metadata": {
  "name": "",
  "signature": "sha256:9ab4fdca4792e4575978f2fea38ca70aced8a170ca5491d05cce87535691d78f"
 },
 "nbformat": 3,
 "nbformat_minor": 0,
 "worksheets": [
  {
   "cells": [
    {
     "cell_type": "heading",
     "level": 1,
     "metadata": {},
     "source": [
      "Dependency Benchmark"
     ]
    },
    {
     "cell_type": "code",
     "collapsed": false,
     "input": [
      "!psinv"
     ],
     "language": "python",
     "metadata": {},
     "outputs": [
      {
       "output_type": "stream",
       "stream": "stdout",
       "text": [
        "System Information -\r\n",
        "Node Name:\t\tnode0379\r\n",
        "OS Name:\t\tLinux\r\n",
        "OS Release:\t\t2.6.32-279.5.2.el6.x86_64\r\n",
        "OS Build/Version:\t#1 SMP Tue Aug 14 11:36:39 EDT 2012\r\n",
        "OS Machine:\t\tx86_64\r\n",
        "Processors:\t\t12\r\n",
        "Total Memory (MB):\t24150.31\r\n",
        "System Page Size (KB):\t4.00\r\n",
        "\r\n",
        "Processor Information -\r\n",
        "Vendor:\t\t\tIntel\r\n",
        "Brand:\t\t\tIntel(R) Xeon(R) CPU           X5660  @ 2.80GHz\r\n",
        "CPUID info:\t\tfamily: 6, model: 44, stepping: 2\r\n",
        "Revision:\t\t2\r\n",
        "Clock Speed:\t\t2799.86 MHz\r\n",
        "\r\n",
        "Cache and TLB Information -\r\n",
        "Cache levels:\t\t3\r\n",
        "\r\n",
        "Cache Details -\r\n",
        "Level 1:\r\n",
        "\tType:\t\tInstruction\r\n",
        "\tSize:\t\t32 KB\r\n",
        "\tLine size:\t64 bytes\r\n",
        "\tAssociativity:\t4-way set associative\r\n",
        "\r\n",
        "\tType:\t\tData\r\n",
        "\tSize:\t\t32 KB\r\n",
        "\tLine size:\t64 bytes\r\n",
        "\tAssociativity:\t8-way set associative\r\n",
        "\r\n",
        "Level 2:\r\n",
        "\tType:\t\tUnified\r\n",
        "\tSize:\t\t256 KB\r\n",
        "\tLine size:\t64 bytes\r\n",
        "\tAssociativity:\t8-way set associative\r\n",
        "\r\n",
        "Level 3:\r\n",
        "\tType:\t\tUnified\r\n",
        "\tSize:\t\t12.00 MB\r\n",
        "\tLine size:\t64 bytes\r\n",
        "\tAssociativity:\t16-way set associative\r\n",
        "\r\n",
        "TLB Details -\r\n",
        "Level 1:\r\n",
        "\tType:\t\tInstruction\r\n",
        "\tEntries:\t128\r\n",
        "\tPagesize (KB):\t4 \r\n",
        "\tAssociativity:\t4-way set associative\r\n",
        "\r\n",
        "\tType:\t\tInstruction\r\n",
        "\tEntries:\t7\r\n",
        "\tPagesize (KB):\t2048 4096 \r\n",
        "\tAssociativity:\tFully associative\r\n",
        "\r\n",
        "\tType:\t\tData\r\n",
        "\tEntries:\t64\r\n",
        "\tPagesize (KB):\t4 \r\n",
        "\tAssociativity:\t4-way set associative\r\n",
        "\r\n",
        "\tType:\t\tData\r\n",
        "\tEntries:\t32\r\n",
        "\tPagesize (KB):\t2048 4096 \r\n",
        "\tAssociativity:\t4-way set associative\r\n",
        "\r\n",
        "Level 2:\r\n",
        "\tType:\t\tUnified\r\n",
        "\tEntries:\t512\r\n",
        "\tPagesize (KB):\t4 \r\n",
        "\tAssociativity:\t4-way set associative\r\n",
        "\r\n"
       ]
      }
     ],
     "prompt_number": 1
    },
    {
     "cell_type": "heading",
     "level": 1,
     "metadata": {},
     "source": [
      "The Benchmark Code depend.f90"
     ]
    },
    {
     "cell_type": "code",
     "collapsed": false,
     "input": [
      "%%file depend.f90\n",
      "!!!!!!!!!!!!!!!!!!!!!!!!!!!!!!!!!!!!!!!!!!!!!!!!!!!!!!!\n",
      "! depend.f90 simple benchmark code\n",
      "! G. Hager, 2010\n",
      "! modified Th. Hauser 2014\n",
      "!!!!!!!!!!!!!!!!!!!!!!!!!!!!!!!!!!!!!!!!!!!!!!!!!!!!!!!\n",
      "PROGRAM depend\n",
      "  IMPLICIT NONE\n",
      "\n",
      "  DOUBLE PRECISION, DIMENSION(:), ALLOCATABLE :: A\n",
      "! Intel-specific: 16-byte alignment of allocatables\n",
      "!DIR$ ATTRIBUTES ALIGN: 16 :: A\n",
      "  DOUBLE PRECISION :: MFLOPS,WT\n",
      "  INTEGER :: n,i\n",
      "  INTEGER(kind=8) :: r\n",
      "\n",
      "  READ *,n\n",
      "\n",
      "  ALLOCATE(A(1:n))\n",
      "\n",
      "  DO i=1,N\n",
      "     A(i) = 1.d0\n",
      "  ENDDO\n",
      "\n",
      "  R = 1\n",
      "\n",
      "  ! warm up\n",
      "  CALL do_depend(A,N,R,WT)\n",
      "\n",
      "  DO\n",
      "    CALL do_depend(A,N,R,WT)\n",
      "     ! exit if duration was above some limit\n",
      "     IF(WT.GE.1.0d0) EXIT\n",
      "     ! else do it again with doubled repeat count\n",
      "     R = R*2\n",
      "  ENDDO\n",
      "\n",
      "  MFLOPS = R*N*1.d0/(WT*1.d6) ! compute MFlop/sec rate\n",
      "  PRINT *, \"Length: \",N,\"   MFLOP/s: \",MFLOPS\n",
      "  DEALLOCATE(A)\n",
      "\n",
      "contains\n",
      "\n",
      "  SUBROUTINE do_depend(A,N,R,WT)\n",
      "    IMPLICIT NONE\n",
      "    INTEGER, INTENT(in) :: N\n",
      "    INTEGER(kind=8), INTENT(in) :: R\n",
      "    DOUBLE PRECISION, DIMENSION(N), INTENT(inout) :: A\n",
      "    DOUBLE PRECISION, INTENT(out) :: WT\n",
      "    INTEGER :: N2\n",
      "    ! assume 4MB outer level cache\n",
      "    INTEGER :: i\n",
      "    INTEGER(kind=8) :: j\n",
      "    integer :: clock_start, clock_rate, clock_max, clock_end\n",
      "\n",
      "    N2 = N/2\n",
      "\n",
      "    call system_clock(clock_start, clock_rate, clock_max)\n",
      "\n",
      "    DO j=1,R\n",
      "       !DIR$ vector temporal\n",
      "       DO i=2,N\n",
      "          A(i) = A(i-1) + 2.0D0*A(i)\n",
      "       ENDDO\n",
      "       ! prevent loop interchange\n",
      "       IF(A(N2).LT.0) CALL dummy(A)\n",
      "    ENDDO\n",
      "\n",
      "    call  system_clock(clock_end, clock_rate, clock_max)\n",
      "\n",
      "    WT = real(clock_end - clock_start) / real(clock_rate)\n",
      "\n",
      "END SUBROUTINE do_depend\n",
      "\n",
      "subroutine dummy(A)\n",
      "  DOUBLE PRECISION, DIMENSION(N), INTENT(in) :: A\n",
      "            \n",
      "  print *, a\n",
      "\n",
      "end subroutine dummy\n",
      "\n",
      "END PROGRAM depend"
     ],
     "language": "python",
     "metadata": {},
     "outputs": [
      {
       "output_type": "stream",
       "stream": "stdout",
       "text": [
        "Overwriting depend.f90\n"
       ]
      }
     ],
     "prompt_number": 2
    },
    {
     "cell_type": "code",
     "collapsed": false,
     "input": [
      "!ifort -Ofast -simd -xhost -vec_report=3 depend.f90 -o depend.exe"
     ],
     "language": "python",
     "metadata": {},
     "outputs": [
      {
       "output_type": "stream",
       "stream": "stdout",
       "text": [
        "depend.f90(21): (col. 6) remark: LOOP WAS VECTORIZED.\r\n",
        "depend.f90(27): (col. 8) remark: loop was not vectorized: existence of vector dependence.\r\n",
        "depend.f90(27): (col. 8) remark: vector dependence: assumed FLOW dependence between depend line 27 and depend line 27.\r\n",
        "depend.f90(30): (col. 10) remark: loop was not vectorized: existence of vector dependence.\r\n",
        "depend.f90(30): (col. 10) remark: vector dependence: assumed FLOW dependence between depend line 30 and depend line 30.\r\n",
        "depend.f90(30): (col. 10) remark: vector dependence: assumed ANTI dependence between depend line 30 and depend line 30.\r\n",
        "depend.f90(30): (col. 10) remark: vector dependence: assumed FLOW dependence between depend line 30 and depend line 30.\r\n",
        "depend.f90(30): (col. 10) remark: vector dependence: assumed ANTI dependence between depend line 30 and depend line 30.\r\n",
        "depend.f90(30): (col. 10) remark: vector dependence: assumed FLOW dependence between depend line 30 and depend line 30.\r\n",
        "depend.f90(30): (col. 10) remark: vector dependence: assumed ANTI dependence between depend line 30 and depend line 30.\r\n",
        "depend.f90(30): (col. 10) remark: loop was not vectorized: not inner loop.\r\n",
        "depend.f90(30): (col. 10) remark: loop was not vectorized: unsupported loop structure.\r\n"
       ]
      }
     ],
     "prompt_number": 3
    },
    {
     "cell_type": "heading",
     "level": 1,
     "metadata": {},
     "source": [
      "Running the experiment"
     ]
    },
    {
     "cell_type": "code",
     "collapsed": false,
     "input": [
      "import numpy as np\n",
      "\n",
      "points = np.logspace(1,7,100)\n",
      "points = points.astype(int)\n",
      "\n",
      "print points\n",
      "\n",
      "results = []\n",
      "\n",
      "for i in points:\n",
      "    print i\n",
      "    r = !echo {i} | ./depend.exe\n",
      "    results.append(r)\n",
      "print results"
     ],
     "language": "python",
     "metadata": {},
     "outputs": [
      {
       "output_type": "stream",
       "stream": "stdout",
       "text": [
        "[      10       11       13       15       17       20       23       26\n",
        "       30       35       40       46       53       61       70       81\n",
        "       93      107      123      141      162      187      215      247\n",
        "      284      327      376      432      497      572      657      756\n",
        "      869     1000     1149     1321     1519     1747     2009     2310\n",
        "     2656     3053     3511     4037     4641     5336     6135     7054\n",
        "     8111     9326    10722    12328    14174    16297    18738    21544\n",
        "    24770    28480    32745    37649    43287    49770    57223    65793\n",
        "    75646    86974   100000   114975   132194   151991   174752   200923\n",
        "   231012   265608   305385   351119   403701   464158   533669   613590\n",
        "   705480   811130   932603  1072267  1232846  1417474  1629750  1873817\n",
        "  2154434  2477076  2848035  3274549  3764935  4328761  4977023  5722367\n",
        "  6579332  7564633  8697490 10000000]\n",
        "10\n"
       ]
      },
      {
       "output_type": "stream",
       "stream": "stdout",
       "text": [
        "11\n"
       ]
      },
      {
       "output_type": "stream",
       "stream": "stdout",
       "text": [
        "13\n"
       ]
      },
      {
       "output_type": "stream",
       "stream": "stdout",
       "text": [
        "15\n"
       ]
      },
      {
       "output_type": "stream",
       "stream": "stdout",
       "text": [
        "17\n"
       ]
      },
      {
       "output_type": "stream",
       "stream": "stdout",
       "text": [
        "20\n"
       ]
      },
      {
       "output_type": "stream",
       "stream": "stdout",
       "text": [
        "23\n"
       ]
      },
      {
       "output_type": "stream",
       "stream": "stdout",
       "text": [
        "26\n"
       ]
      },
      {
       "output_type": "stream",
       "stream": "stdout",
       "text": [
        "30\n"
       ]
      },
      {
       "output_type": "stream",
       "stream": "stdout",
       "text": [
        "35\n"
       ]
      },
      {
       "output_type": "stream",
       "stream": "stdout",
       "text": [
        "40\n"
       ]
      },
      {
       "output_type": "stream",
       "stream": "stdout",
       "text": [
        "46\n"
       ]
      },
      {
       "output_type": "stream",
       "stream": "stdout",
       "text": [
        "53\n"
       ]
      },
      {
       "output_type": "stream",
       "stream": "stdout",
       "text": [
        "61\n"
       ]
      },
      {
       "output_type": "stream",
       "stream": "stdout",
       "text": [
        "70\n"
       ]
      },
      {
       "output_type": "stream",
       "stream": "stdout",
       "text": [
        "81\n"
       ]
      },
      {
       "output_type": "stream",
       "stream": "stdout",
       "text": [
        "93\n"
       ]
      },
      {
       "output_type": "stream",
       "stream": "stdout",
       "text": [
        "107\n"
       ]
      },
      {
       "output_type": "stream",
       "stream": "stdout",
       "text": [
        "123\n"
       ]
      },
      {
       "output_type": "stream",
       "stream": "stdout",
       "text": [
        "141\n"
       ]
      },
      {
       "output_type": "stream",
       "stream": "stdout",
       "text": [
        "162\n"
       ]
      },
      {
       "output_type": "stream",
       "stream": "stdout",
       "text": [
        "187\n"
       ]
      },
      {
       "output_type": "stream",
       "stream": "stdout",
       "text": [
        "215\n"
       ]
      },
      {
       "output_type": "stream",
       "stream": "stdout",
       "text": [
        "247\n"
       ]
      },
      {
       "output_type": "stream",
       "stream": "stdout",
       "text": [
        "284\n"
       ]
      },
      {
       "output_type": "stream",
       "stream": "stdout",
       "text": [
        "327\n"
       ]
      },
      {
       "output_type": "stream",
       "stream": "stdout",
       "text": [
        "376\n"
       ]
      },
      {
       "output_type": "stream",
       "stream": "stdout",
       "text": [
        "432\n"
       ]
      },
      {
       "output_type": "stream",
       "stream": "stdout",
       "text": [
        "497\n"
       ]
      },
      {
       "output_type": "stream",
       "stream": "stdout",
       "text": [
        "572\n"
       ]
      },
      {
       "output_type": "stream",
       "stream": "stdout",
       "text": [
        "657\n"
       ]
      },
      {
       "output_type": "stream",
       "stream": "stdout",
       "text": [
        "756\n"
       ]
      },
      {
       "output_type": "stream",
       "stream": "stdout",
       "text": [
        "869\n"
       ]
      },
      {
       "output_type": "stream",
       "stream": "stdout",
       "text": [
        "1000\n"
       ]
      },
      {
       "output_type": "stream",
       "stream": "stdout",
       "text": [
        "1149\n"
       ]
      },
      {
       "output_type": "stream",
       "stream": "stdout",
       "text": [
        "1321\n"
       ]
      },
      {
       "output_type": "stream",
       "stream": "stdout",
       "text": [
        "1519\n"
       ]
      },
      {
       "output_type": "stream",
       "stream": "stdout",
       "text": [
        "1747\n"
       ]
      },
      {
       "output_type": "stream",
       "stream": "stdout",
       "text": [
        "2009\n"
       ]
      },
      {
       "output_type": "stream",
       "stream": "stdout",
       "text": [
        "2310\n"
       ]
      },
      {
       "output_type": "stream",
       "stream": "stdout",
       "text": [
        "2656\n"
       ]
      },
      {
       "output_type": "stream",
       "stream": "stdout",
       "text": [
        "3053\n"
       ]
      },
      {
       "output_type": "stream",
       "stream": "stdout",
       "text": [
        "3511\n"
       ]
      },
      {
       "output_type": "stream",
       "stream": "stdout",
       "text": [
        "4037\n"
       ]
      },
      {
       "output_type": "stream",
       "stream": "stdout",
       "text": [
        "4641\n"
       ]
      },
      {
       "output_type": "stream",
       "stream": "stdout",
       "text": [
        "5336\n"
       ]
      },
      {
       "output_type": "stream",
       "stream": "stdout",
       "text": [
        "6135\n"
       ]
      },
      {
       "output_type": "stream",
       "stream": "stdout",
       "text": [
        "7054\n"
       ]
      },
      {
       "output_type": "stream",
       "stream": "stdout",
       "text": [
        "8111\n"
       ]
      },
      {
       "output_type": "stream",
       "stream": "stdout",
       "text": [
        "9326\n"
       ]
      },
      {
       "output_type": "stream",
       "stream": "stdout",
       "text": [
        "10722\n"
       ]
      },
      {
       "output_type": "stream",
       "stream": "stdout",
       "text": [
        "12328\n"
       ]
      },
      {
       "output_type": "stream",
       "stream": "stdout",
       "text": [
        "14174\n"
       ]
      },
      {
       "output_type": "stream",
       "stream": "stdout",
       "text": [
        "16297\n"
       ]
      },
      {
       "output_type": "stream",
       "stream": "stdout",
       "text": [
        "18738\n"
       ]
      },
      {
       "output_type": "stream",
       "stream": "stdout",
       "text": [
        "21544\n"
       ]
      },
      {
       "output_type": "stream",
       "stream": "stdout",
       "text": [
        "24770\n"
       ]
      },
      {
       "output_type": "stream",
       "stream": "stdout",
       "text": [
        "28480\n"
       ]
      },
      {
       "output_type": "stream",
       "stream": "stdout",
       "text": [
        "32745\n"
       ]
      },
      {
       "output_type": "stream",
       "stream": "stdout",
       "text": [
        "37649\n"
       ]
      },
      {
       "output_type": "stream",
       "stream": "stdout",
       "text": [
        "43287\n"
       ]
      },
      {
       "output_type": "stream",
       "stream": "stdout",
       "text": [
        "49770\n"
       ]
      },
      {
       "output_type": "stream",
       "stream": "stdout",
       "text": [
        "57223\n"
       ]
      },
      {
       "output_type": "stream",
       "stream": "stdout",
       "text": [
        "65793\n"
       ]
      },
      {
       "output_type": "stream",
       "stream": "stdout",
       "text": [
        "75646\n"
       ]
      },
      {
       "output_type": "stream",
       "stream": "stdout",
       "text": [
        "86974\n"
       ]
      },
      {
       "output_type": "stream",
       "stream": "stdout",
       "text": [
        "100000\n"
       ]
      },
      {
       "output_type": "stream",
       "stream": "stdout",
       "text": [
        "114975\n"
       ]
      },
      {
       "output_type": "stream",
       "stream": "stdout",
       "text": [
        "132194\n"
       ]
      },
      {
       "output_type": "stream",
       "stream": "stdout",
       "text": [
        "151991\n"
       ]
      },
      {
       "output_type": "stream",
       "stream": "stdout",
       "text": [
        "174752\n"
       ]
      },
      {
       "output_type": "stream",
       "stream": "stdout",
       "text": [
        "200923\n"
       ]
      },
      {
       "output_type": "stream",
       "stream": "stdout",
       "text": [
        "231012\n"
       ]
      },
      {
       "output_type": "stream",
       "stream": "stdout",
       "text": [
        "265608\n"
       ]
      },
      {
       "output_type": "stream",
       "stream": "stdout",
       "text": [
        "305385\n"
       ]
      },
      {
       "output_type": "stream",
       "stream": "stdout",
       "text": [
        "351119\n"
       ]
      },
      {
       "output_type": "stream",
       "stream": "stdout",
       "text": [
        "403701\n"
       ]
      },
      {
       "output_type": "stream",
       "stream": "stdout",
       "text": [
        "464158\n"
       ]
      },
      {
       "output_type": "stream",
       "stream": "stdout",
       "text": [
        "533669\n"
       ]
      },
      {
       "output_type": "stream",
       "stream": "stdout",
       "text": [
        "613590\n"
       ]
      },
      {
       "output_type": "stream",
       "stream": "stdout",
       "text": [
        "705480\n"
       ]
      },
      {
       "output_type": "stream",
       "stream": "stdout",
       "text": [
        "811130\n"
       ]
      },
      {
       "output_type": "stream",
       "stream": "stdout",
       "text": [
        "932603\n"
       ]
      },
      {
       "output_type": "stream",
       "stream": "stdout",
       "text": [
        "1072267\n"
       ]
      },
      {
       "output_type": "stream",
       "stream": "stdout",
       "text": [
        "1232846\n"
       ]
      },
      {
       "output_type": "stream",
       "stream": "stdout",
       "text": [
        "1417474\n"
       ]
      },
      {
       "output_type": "stream",
       "stream": "stdout",
       "text": [
        "1629750\n"
       ]
      },
      {
       "output_type": "stream",
       "stream": "stdout",
       "text": [
        "1873817\n"
       ]
      },
      {
       "output_type": "stream",
       "stream": "stdout",
       "text": [
        "2154434\n"
       ]
      },
      {
       "output_type": "stream",
       "stream": "stdout",
       "text": [
        "2477076\n"
       ]
      },
      {
       "output_type": "stream",
       "stream": "stdout",
       "text": [
        "2848035\n"
       ]
      },
      {
       "output_type": "stream",
       "stream": "stdout",
       "text": [
        "3274549\n"
       ]
      },
      {
       "output_type": "stream",
       "stream": "stdout",
       "text": [
        "3764935\n"
       ]
      },
      {
       "output_type": "stream",
       "stream": "stdout",
       "text": [
        "4328761\n"
       ]
      },
      {
       "output_type": "stream",
       "stream": "stdout",
       "text": [
        "4977023\n"
       ]
      },
      {
       "output_type": "stream",
       "stream": "stdout",
       "text": [
        "5722367\n"
       ]
      },
      {
       "output_type": "stream",
       "stream": "stdout",
       "text": [
        "6579332\n"
       ]
      },
      {
       "output_type": "stream",
       "stream": "stdout",
       "text": [
        "7564633\n"
       ]
      },
      {
       "output_type": "stream",
       "stream": "stdout",
       "text": [
        "8697490\n"
       ]
      },
      {
       "output_type": "stream",
       "stream": "stdout",
       "text": [
        "10000000\n"
       ]
      },
      {
       "output_type": "stream",
       "stream": "stdout",
       "text": [
        "[[' Length:           10    MFLOP/s:    1138.59628010242     '], [' Length:           11    MFLOP/s:    1138.84222757231     '], [' Length:           13    MFLOP/s:    1167.03259920373     '], [' Length:           15    MFLOP/s:    1154.99160437531     '], [' Length:           17    MFLOP/s:    1178.13878863766     '], [' Length:           20    MFLOP/s:    1140.91919531357     '], [' Length:           23    MFLOP/s:    1168.87834384673     '], [' Length:           26    MFLOP/s:    1118.12267555862     '], [' Length:           30    MFLOP/s:    1110.15487627373     '], [' Length:           35    MFLOP/s:    1099.01277900678     '], [' Length:           40    MFLOP/s:    1085.46482255182     '], [' Length:           46    MFLOP/s:    1053.94600496163     '], [' Length:           53    MFLOP/s:    1035.57027691532     '], [' Length:           61    MFLOP/s:    1020.75625607134     '], [' Length:           70    MFLOP/s:    1008.33269379139     '], [' Length:           81    MFLOP/s:    991.720383785655     '], [' Length:           93    MFLOP/s:    988.395438711505     '], [' Length:          107    MFLOP/s:    983.866124295978     '], [' Length:          123    MFLOP/s:    976.712269208610     '], [' Length:          141    MFLOP/s:    916.610122539703     '], [' Length:          162    MFLOP/s:    918.460759289846     '], [' Length:          187    MFLOP/s:    919.986887134036     '], [' Length:          215    MFLOP/s:    921.730847888211     '], [' Length:          247    MFLOP/s:    923.015899946354     '], [' Length:          284    MFLOP/s:    924.041803538945     '], [' Length:          327    MFLOP/s:    925.151735381589     '], [' Length:          376    MFLOP/s:    925.395069134030     '], [' Length:          432    MFLOP/s:    926.728400136880     '], [' Length:          497    MFLOP/s:    927.381877545130     '], [' Length:          572    MFLOP/s:    928.029483908079     '], [' Length:          657    MFLOP/s:    928.456128103182     '], [' Length:          756    MFLOP/s:    928.900238389142     '], [' Length:          869    MFLOP/s:    929.287188049571     '], [' Length:         1000    MFLOP/s:    929.588635191892     '], [' Length:         1149    MFLOP/s:    929.855573622572     '], [' Length:         1321    MFLOP/s:    930.142962480274     '], [' Length:         1519    MFLOP/s:    930.257505895119     '], [' Length:         1747    MFLOP/s:    930.304338743351     '], [' Length:         2009    MFLOP/s:    930.718879372458     '], [' Length:         2310    MFLOP/s:    930.831808040542     '], [' Length:         2656    MFLOP/s:    930.261849792487     '], [' Length:         3053    MFLOP/s:    931.044235674136     '], [' Length:         3511    MFLOP/s:    931.095179451656     '], [' Length:         4037    MFLOP/s:    931.088607831799     '], [' Length:         4641    MFLOP/s:    930.913062416888     '], [' Length:         5336    MFLOP/s:    931.291882809605     '], [' Length:         6135    MFLOP/s:    931.295070490563     '], [' Length:         7054    MFLOP/s:    931.380987148514     '], [' Length:         8111    MFLOP/s:    931.421947616126     '], [' Length:         9326    MFLOP/s:    931.264251521151     '], [' Length:        10722    MFLOP/s:    931.253078620015     '], [' Length:        12328    MFLOP/s:    931.328877623766     '], [' Length:        14174    MFLOP/s:    931.375429851306     '], [' Length:        16297    MFLOP/s:    931.403304336802     '], [' Length:        18738    MFLOP/s:    931.159837409060     '], [' Length:        21544    MFLOP/s:    931.398884659298     '], [' Length:        24770    MFLOP/s:    924.867077094203     '], [' Length:        28480    MFLOP/s:    915.652148611264     '], [' Length:        32745    MFLOP/s:    919.599022671964     '], [' Length:        37649    MFLOP/s:    912.689560683691     '], [' Length:        43287    MFLOP/s:    905.591767053723     '], [' Length:        49770    MFLOP/s:    903.775768718444     '], [' Length:        57223    MFLOP/s:    900.356841881102     '], [' Length:        65793    MFLOP/s:    899.117963184951     '], [' Length:        75646    MFLOP/s:    899.212150884293     '], [' Length:        86974    MFLOP/s:    897.739600074240     '], [' Length:       100000    MFLOP/s:    897.016122538661     '], [' Length:       114975    MFLOP/s:    899.938098840927     '], [' Length:       132194    MFLOP/s:    896.616344151701     '], [' Length:       151991    MFLOP/s:    897.118147287280     '], [' Length:       174752    MFLOP/s:    897.478743295232     '], [' Length:       200923    MFLOP/s:    897.519624078114     '], [' Length:       231012    MFLOP/s:    898.940840309774     '], [' Length:       265608    MFLOP/s:    899.115978265659     '], [' Length:       305385    MFLOP/s:    904.190395483910     '], [' Length:       351119    MFLOP/s:    906.570470846160     '], [' Length:       403701    MFLOP/s:    896.918672632129     '], [' Length:       464158    MFLOP/s:    896.872859030615     '], [' Length:       533669    MFLOP/s:    898.293868550380     '], [' Length:       613590    MFLOP/s:    896.505887291523     '], [' Length:       705480    MFLOP/s:    542.840013039224     '], [' Length:       811130    MFLOP/s:    898.234130495295     '], [' Length:       932603    MFLOP/s:    896.531635205572     '], [' Length:      1072267    MFLOP/s:    897.353204583543     '], [' Length:      1232846    MFLOP/s:    894.962676488560     '], [' Length:      1417474    MFLOP/s:    881.295334245313     '], [' Length:      1629750    MFLOP/s:    839.384389189500     '], [' Length:      1873817    MFLOP/s:    798.297814098461     '], [' Length:      2154434    MFLOP/s:    770.354207132149     '], [' Length:      2477076    MFLOP/s:    766.275706125186     '], [' Length:      2848035    MFLOP/s:    762.972940818213     '], [' Length:      3274549    MFLOP/s:    761.177284235814     '], [' Length:      3764935    MFLOP/s:    756.236446154851     '], [' Length:      4328761    MFLOP/s:    761.571555686501     '], [' Length:      4977023    MFLOP/s:    758.584119856289     '], [' Length:      5722367    MFLOP/s:    756.442205306323     '], [' Length:      6579332    MFLOP/s:    757.060818422696     '], [' Length:      7564633    MFLOP/s:    758.775169690424     '], [' Length:      8697490    MFLOP/s:    756.406266435259     '], [' Length:     10000000    MFLOP/s:    753.872405412954     ']]\n"
       ]
      }
     ],
     "prompt_number": 5
    },
    {
     "cell_type": "heading",
     "level": 1,
     "metadata": {},
     "source": [
      "Plotting the results"
     ]
    },
    {
     "cell_type": "code",
     "collapsed": false,
     "input": [
      "%pylab inline\n",
      "import string\n",
      "import matplotlib\n",
      "import matplotlib.pylab as plt\n",
      "import numpy as np\n",
      "\n",
      "length = []\n",
      "mflops = []\n",
      "\n",
      "for i in results:\n",
      "    sl, l, ml, mf = string.split(i[0])\n",
      "    length.append(string.atoi(l))\n",
      "    mflops.append(string.atof(mf))\n",
      "    \n",
      "plt.plot(length, mflops, '-bs', label = 'dependency - not vectorized')\n",
      "plt.xlabel('N')\n",
      "plt.ylabel('MFlops/sec')\n",
      "plt.title('Intel(R) Xeon(R) CPU X5660 @ 2.80GHz')\n",
      "plt.legend(loc=3, shadow=True)\n",
      "plt.xscale('log')\n"
     ],
     "language": "python",
     "metadata": {},
     "outputs": [
      {
       "output_type": "stream",
       "stream": "stdout",
       "text": [
        "Populating the interactive namespace from numpy and matplotlib\n"
       ]
      },
      {
       "output_type": "stream",
       "stream": "stderr",
       "text": [
        "WARNING: pylab import has clobbered these variables: ['plt']\n",
        "`%matplotlib` prevents importing * from pylab and numpy\n"
       ]
      },
      {
       "metadata": {},
       "output_type": "display_data",
       "png": "[encoded data removed]",
       "text": [
        "<matplotlib.figure.Figure at 0x2b0935e60650>"
       ]
      }
     ],
     "prompt_number": 6
    },
    {
     "cell_type": "code",
     "collapsed": false,
     "input": [],
     "language": "python",
     "metadata": {},
     "outputs": []
    }
   ],
   "metadata": {}
  }
 ]
}