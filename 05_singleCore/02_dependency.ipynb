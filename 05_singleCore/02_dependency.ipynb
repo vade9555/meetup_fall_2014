{
 "metadata": {
  "name": "",
  "signature": "sha256:1c47e32ad5ca013358dad6bcf0fae3916ec1cc4a69833d56f0579a85b2f6b3bb"
 },
 "nbformat": 3,
 "nbformat_minor": 0,
 "worksheets": [
  {
   "cells": [
    {
     "cell_type": "heading",
     "level": 1,
     "metadata": {},
     "source": [
      "Serial triad on my laptop"
     ]
    },
    {
     "cell_type": "markdown",
     "metadata": {},
     "source": [
      "Laptop specs:"
     ]
    },
    {
     "cell_type": "code",
     "collapsed": false,
     "input": [
      "!system_profiler SPHardwareDataType"
     ],
     "language": "python",
     "metadata": {},
     "outputs": [
      {
       "output_type": "stream",
       "stream": "stdout",
       "text": [
        "Hardware:\r\n",
        "\r\n",
        "    Hardware Overview:\r\n",
        "\r\n",
        "      Model Name: MacBook Pro\r\n",
        "      Model Identifier: MacBookPro10,1\r\n",
        "      Processor Name: Intel Core i7\r\n",
        "      Processor Speed: 2.4 GHz\r\n",
        "      Number of Processors: 1\r\n",
        "      Total Number of Cores: 4\r\n",
        "      L2 Cache (per Core): 256 KB\r\n",
        "      L3 Cache: 6 MB\r\n",
        "      Memory: 16 GB\r\n",
        "      Boot ROM Version: MBP101.00EE.B03\r\n",
        "      SMC Version (system): 2.3f36\r\n",
        "      Serial Number (system): C02L61PEFFT3\r\n",
        "      Hardware UUID: 4927DF57-2AE9-58A2-9839-60CDB991025A\r\n",
        "\r\n"
       ]
      }
     ],
     "prompt_number": 1
    },
    {
     "cell_type": "heading",
     "level": 1,
     "metadata": {},
     "source": [
      "The Benchmark Code triad.f90"
     ]
    },
    {
     "cell_type": "code",
     "collapsed": false,
     "input": [
      "!cat triad.f90"
     ],
     "language": "python",
     "metadata": {},
     "outputs": [
      {
       "output_type": "stream",
       "stream": "stdout",
       "text": [
        "!!!!!!!!!!!!!!!!!!!!!!!!!!!!!!!!!!!!!!!!!!!!!!!!!!!!!!!\r\n",
        "! triad.f90 simple benchmark code\r\n",
        "! G. Hager, 2010\r\n",
        "! modified Th. Hauser 2014\r\n",
        "!!!!!!!!!!!!!!!!!!!!!!!!!!!!!!!!!!!!!!!!!!!!!!!!!!!!!!!\r\n",
        "PROGRAM triad\r\n",
        "  IMPLICIT NONE\r\n",
        "\r\n",
        "  DOUBLE PRECISION, DIMENSION(:), ALLOCATABLE :: A,B,C,D\r\n",
        "! Intel-specific: 16-byte alignment of allocatables\r\n",
        "!DIR$ ATTRIBUTES ALIGN: 16 :: A\r\n",
        "!DIR$ ATTRIBUTES ALIGN: 16 :: B\r\n",
        "!DIR$ ATTRIBUTES ALIGN: 16 :: C\r\n",
        "!DIR$ ATTRIBUTES ALIGN: 16 :: D\r\n",
        "  DOUBLE PRECISION :: MFLOPS,WT\r\n",
        "  INTEGER :: n,i\r\n",
        "  INTEGER(kind=8) :: r\r\n",
        "\r\n",
        "  READ *,n\r\n",
        "\r\n",
        "  ALLOCATE(A(1:n), B(1:n), C(1:n),D(1:n))\r\n",
        "\r\n",
        "  DO i=1,N\r\n",
        "     A(i) = 0.d0; B(i) = 1.d0\r\n",
        "     C(i) = 2.d0; D(i) = 3.d0\r\n",
        "  ENDDO\r\n",
        "\r\n",
        "  R = 1\r\n",
        "\r\n",
        "  ! warm up\r\n",
        "  CALL do_triad(A,B,C,D,N,R,WT)\r\n",
        "\r\n",
        "  DO\r\n",
        "    CALL do_triad(A,B,C,D,N,R,WT)\r\n",
        "     ! exit if duration was above some limit\r\n",
        "     IF(WT.GE.1.0d0) EXIT\r\n",
        "     ! else do it again with doubled repeat count\r\n",
        "     R = R*2\r\n",
        "  ENDDO\r\n",
        "\r\n",
        "  MFLOPS = R*N*2.d0/(WT*1.d6) ! compute MFlop/sec rate\r\n",
        "  PRINT *, \"Length: \",N,\"   MFLOP/s: \",MFLOPS\r\n",
        "  DEALLOCATE(A,B,C,D)\r\n",
        "\r\n",
        "contains\r\n",
        "\r\n",
        "  SUBROUTINE do_triad(A,B,C,D,N,R,WT)\r\n",
        "    IMPLICIT NONE\r\n",
        "    INTEGER, INTENT(in) :: N\r\n",
        "    INTEGER(kind=8), INTENT(in) :: R\r\n",
        "    DOUBLE PRECISION, DIMENSION(N), INTENT(out) :: A\r\n",
        "    DOUBLE PRECISION, DIMENSION(N), INTENT(in) :: B,C,D\r\n",
        "    DOUBLE PRECISION, INTENT(out) :: WT\r\n",
        "    INTEGER :: N2\r\n",
        "    ! assume 4MB outer level cache\r\n",
        "    INTEGER :: i\r\n",
        "    INTEGER(kind=8) :: j\r\n",
        "    integer :: clock_start, clock_rate, clock_max, clock_end\r\n",
        "\r\n",
        "    N2 = N/2\r\n",
        "\r\n",
        "    call system_clock(clock_start, clock_rate, clock_max)\r\n",
        "\r\n",
        "    DO j=1,R\r\n",
        "       !DIR$ vector temporal\r\n",
        "       DO i=1,N\r\n",
        "          A(i) = B(i) + C(i) * D(i)\r\n",
        "       ENDDO\r\n",
        "       ! prevent loop interchange\r\n",
        "       IF(A(N2).LT.0) CALL dummy(A,B,C,D)\r\n",
        "    ENDDO\r\n",
        "\r\n",
        "    call  system_clock(clock_end, clock_rate, clock_max)\r\n",
        "\r\n",
        "    WT = real(clock_end - clock_start) / real(clock_rate)\r\n",
        "\r\n",
        "END SUBROUTINE do_triad\r\n",
        "\r\n",
        "subroutine dummy(A,B,C,D)\r\n",
        "  DOUBLE PRECISION, DIMENSION(N), INTENT(in) :: A\r\n",
        "  DOUBLE PRECISION, DIMENSION(N), INTENT(in) :: B,C,D\r\n",
        "\r\n",
        "  print *, a, b, c, d\r\n",
        "\r\n",
        "end subroutine dummy\r\n",
        "\r\n",
        "END PROGRAM triad\r\n"
       ]
      }
     ],
     "prompt_number": 2
    },
    {
     "cell_type": "heading",
     "level": 1,
     "metadata": {},
     "source": [
      "Running the experiment"
     ]
    },
    {
     "cell_type": "code",
     "collapsed": false,
     "input": [
      "import numpy as np\n",
      "\n",
      "points = np.logspace(1,7,100)\n",
      "points = points.astype(int)\n",
      "\n",
      "print points\n",
      "\n",
      "results = []\n",
      "\n",
      "for i in points:\n",
      "    print i\n",
      "    r = !echo {i} | ./triad.exe\n",
      "    results.append(r)\n",
      "print results"
     ],
     "language": "python",
     "metadata": {},
     "outputs": [
      {
       "output_type": "stream",
       "stream": "stdout",
       "text": [
        "[      10       11       13       15       17       20       23       26\n",
        "       30       35       40       46       53       61       70       81\n",
        "       93      107      123      141      162      187      215      247\n",
        "      284      327      376      432      497      572      657      756\n",
        "      869     1000     1149     1321     1519     1747     2009     2310\n",
        "     2656     3053     3511     4037     4641     5336     6135     7054\n",
        "     8111     9326    10722    12328    14174    16297    18738    21544\n",
        "    24770    28480    32745    37649    43287    49770    57223    65793\n",
        "    75646    86974   100000   114975   132194   151991   174752   200923\n",
        "   231012   265608   305385   351119   403701   464158   533669   613590\n",
        "   705480   811130   932603  1072267  1232846  1417474  1629750  1873817\n",
        "  2154434  2477076  2848035  3274549  3764935  4328761  4977023  5722367\n",
        "  6579332  7564633  8697490 10000000]\n",
        "10\n"
       ]
      },
      {
       "output_type": "stream",
       "stream": "stdout",
       "text": [
        "11\n"
       ]
      },
      {
       "output_type": "stream",
       "stream": "stdout",
       "text": [
        "13\n"
       ]
      },
      {
       "output_type": "stream",
       "stream": "stdout",
       "text": [
        "15\n"
       ]
      },
      {
       "output_type": "stream",
       "stream": "stdout",
       "text": [
        "17\n"
       ]
      },
      {
       "output_type": "stream",
       "stream": "stdout",
       "text": [
        "20\n"
       ]
      },
      {
       "output_type": "stream",
       "stream": "stdout",
       "text": [
        "23\n"
       ]
      },
      {
       "output_type": "stream",
       "stream": "stdout",
       "text": [
        "26\n"
       ]
      },
      {
       "output_type": "stream",
       "stream": "stdout",
       "text": [
        "30\n"
       ]
      },
      {
       "output_type": "stream",
       "stream": "stdout",
       "text": [
        "35\n"
       ]
      },
      {
       "output_type": "stream",
       "stream": "stdout",
       "text": [
        "40\n"
       ]
      },
      {
       "output_type": "stream",
       "stream": "stdout",
       "text": [
        "46\n"
       ]
      },
      {
       "output_type": "stream",
       "stream": "stdout",
       "text": [
        "53\n"
       ]
      },
      {
       "output_type": "stream",
       "stream": "stdout",
       "text": [
        "61\n"
       ]
      },
      {
       "output_type": "stream",
       "stream": "stdout",
       "text": [
        "70\n"
       ]
      },
      {
       "output_type": "stream",
       "stream": "stdout",
       "text": [
        "81\n"
       ]
      },
      {
       "output_type": "stream",
       "stream": "stdout",
       "text": [
        "93\n"
       ]
      },
      {
       "output_type": "stream",
       "stream": "stdout",
       "text": [
        "107\n"
       ]
      },
      {
       "output_type": "stream",
       "stream": "stdout",
       "text": [
        "123\n"
       ]
      },
      {
       "output_type": "stream",
       "stream": "stdout",
       "text": [
        "141\n"
       ]
      },
      {
       "output_type": "stream",
       "stream": "stdout",
       "text": [
        "162\n"
       ]
      },
      {
       "output_type": "stream",
       "stream": "stdout",
       "text": [
        "187\n"
       ]
      },
      {
       "output_type": "stream",
       "stream": "stdout",
       "text": [
        "215\n"
       ]
      },
      {
       "output_type": "stream",
       "stream": "stdout",
       "text": [
        "247\n"
       ]
      },
      {
       "output_type": "stream",
       "stream": "stdout",
       "text": [
        "284\n"
       ]
      },
      {
       "output_type": "stream",
       "stream": "stdout",
       "text": [
        "327\n"
       ]
      },
      {
       "output_type": "stream",
       "stream": "stdout",
       "text": [
        "376\n"
       ]
      },
      {
       "output_type": "stream",
       "stream": "stdout",
       "text": [
        "432\n"
       ]
      },
      {
       "output_type": "stream",
       "stream": "stdout",
       "text": [
        "497\n"
       ]
      },
      {
       "output_type": "stream",
       "stream": "stdout",
       "text": [
        "572\n"
       ]
      },
      {
       "output_type": "stream",
       "stream": "stdout",
       "text": [
        "657\n"
       ]
      },
      {
       "output_type": "stream",
       "stream": "stdout",
       "text": [
        "756\n"
       ]
      },
      {
       "output_type": "stream",
       "stream": "stdout",
       "text": [
        "869\n"
       ]
      },
      {
       "output_type": "stream",
       "stream": "stdout",
       "text": [
        "1000\n"
       ]
      },
      {
       "output_type": "stream",
       "stream": "stdout",
       "text": [
        "1149\n"
       ]
      },
      {
       "output_type": "stream",
       "stream": "stdout",
       "text": [
        "1321\n"
       ]
      },
      {
       "output_type": "stream",
       "stream": "stdout",
       "text": [
        "1519\n"
       ]
      },
      {
       "output_type": "stream",
       "stream": "stdout",
       "text": [
        "1747\n"
       ]
      },
      {
       "output_type": "stream",
       "stream": "stdout",
       "text": [
        "2009\n"
       ]
      },
      {
       "output_type": "stream",
       "stream": "stdout",
       "text": [
        "2310\n"
       ]
      },
      {
       "output_type": "stream",
       "stream": "stdout",
       "text": [
        "2656\n"
       ]
      },
      {
       "output_type": "stream",
       "stream": "stdout",
       "text": [
        "3053\n"
       ]
      },
      {
       "output_type": "stream",
       "stream": "stdout",
       "text": [
        "3511\n"
       ]
      },
      {
       "output_type": "stream",
       "stream": "stdout",
       "text": [
        "4037\n"
       ]
      },
      {
       "output_type": "stream",
       "stream": "stdout",
       "text": [
        "4641\n"
       ]
      },
      {
       "output_type": "stream",
       "stream": "stdout",
       "text": [
        "5336\n"
       ]
      },
      {
       "output_type": "stream",
       "stream": "stdout",
       "text": [
        "6135\n"
       ]
      },
      {
       "output_type": "stream",
       "stream": "stdout",
       "text": [
        "7054\n"
       ]
      },
      {
       "output_type": "stream",
       "stream": "stdout",
       "text": [
        "8111\n"
       ]
      },
      {
       "output_type": "stream",
       "stream": "stdout",
       "text": [
        "9326\n"
       ]
      },
      {
       "output_type": "stream",
       "stream": "stdout",
       "text": [
        "10722\n"
       ]
      },
      {
       "output_type": "stream",
       "stream": "stdout",
       "text": [
        "12328\n"
       ]
      },
      {
       "output_type": "stream",
       "stream": "stdout",
       "text": [
        "14174\n"
       ]
      },
      {
       "output_type": "stream",
       "stream": "stdout",
       "text": [
        "16297\n"
       ]
      },
      {
       "output_type": "stream",
       "stream": "stdout",
       "text": [
        "18738\n"
       ]
      },
      {
       "output_type": "stream",
       "stream": "stdout",
       "text": [
        "21544\n"
       ]
      },
      {
       "output_type": "stream",
       "stream": "stdout",
       "text": [
        "24770\n"
       ]
      },
      {
       "output_type": "stream",
       "stream": "stdout",
       "text": [
        "28480\n"
       ]
      },
      {
       "output_type": "stream",
       "stream": "stdout",
       "text": [
        "32745\n"
       ]
      },
      {
       "output_type": "stream",
       "stream": "stdout",
       "text": [
        "37649\n"
       ]
      },
      {
       "output_type": "stream",
       "stream": "stdout",
       "text": [
        "43287\n"
       ]
      },
      {
       "output_type": "stream",
       "stream": "stdout",
       "text": [
        "49770\n"
       ]
      },
      {
       "output_type": "stream",
       "stream": "stdout",
       "text": [
        "57223\n"
       ]
      },
      {
       "output_type": "stream",
       "stream": "stdout",
       "text": [
        "65793\n"
       ]
      },
      {
       "output_type": "stream",
       "stream": "stdout",
       "text": [
        "75646\n"
       ]
      },
      {
       "output_type": "stream",
       "stream": "stdout",
       "text": [
        "86974\n"
       ]
      },
      {
       "output_type": "stream",
       "stream": "stdout",
       "text": [
        "100000\n"
       ]
      },
      {
       "output_type": "stream",
       "stream": "stdout",
       "text": [
        "114975\n"
       ]
      },
      {
       "output_type": "stream",
       "stream": "stdout",
       "text": [
        "132194\n"
       ]
      },
      {
       "output_type": "stream",
       "stream": "stdout",
       "text": [
        "151991\n"
       ]
      },
      {
       "output_type": "stream",
       "stream": "stdout",
       "text": [
        "174752\n"
       ]
      },
      {
       "output_type": "stream",
       "stream": "stdout",
       "text": [
        "200923\n"
       ]
      },
      {
       "output_type": "stream",
       "stream": "stdout",
       "text": [
        "231012\n"
       ]
      },
      {
       "output_type": "stream",
       "stream": "stdout",
       "text": [
        "265608\n"
       ]
      },
      {
       "output_type": "stream",
       "stream": "stdout",
       "text": [
        "305385\n"
       ]
      },
      {
       "output_type": "stream",
       "stream": "stdout",
       "text": [
        "351119\n"
       ]
      },
      {
       "output_type": "stream",
       "stream": "stdout",
       "text": [
        "403701\n"
       ]
      },
      {
       "output_type": "stream",
       "stream": "stdout",
       "text": [
        "464158\n"
       ]
      },
      {
       "output_type": "stream",
       "stream": "stdout",
       "text": [
        "533669\n"
       ]
      },
      {
       "output_type": "stream",
       "stream": "stdout",
       "text": [
        "613590\n"
       ]
      },
      {
       "output_type": "stream",
       "stream": "stdout",
       "text": [
        "705480\n"
       ]
      },
      {
       "output_type": "stream",
       "stream": "stdout",
       "text": [
        "811130\n"
       ]
      },
      {
       "output_type": "stream",
       "stream": "stdout",
       "text": [
        "932603\n"
       ]
      },
      {
       "output_type": "stream",
       "stream": "stdout",
       "text": [
        "1072267\n"
       ]
      },
      {
       "output_type": "stream",
       "stream": "stdout",
       "text": [
        "1232846\n"
       ]
      },
      {
       "output_type": "stream",
       "stream": "stdout",
       "text": [
        "1417474\n"
       ]
      },
      {
       "output_type": "stream",
       "stream": "stdout",
       "text": [
        "1629750\n"
       ]
      },
      {
       "output_type": "stream",
       "stream": "stdout",
       "text": [
        "1873817\n"
       ]
      },
      {
       "output_type": "stream",
       "stream": "stdout",
       "text": [
        "2154434\n"
       ]
      },
      {
       "output_type": "stream",
       "stream": "stdout",
       "text": [
        "2477076\n"
       ]
      },
      {
       "output_type": "stream",
       "stream": "stdout",
       "text": [
        "2848035\n"
       ]
      },
      {
       "output_type": "stream",
       "stream": "stdout",
       "text": [
        "3274549\n"
       ]
      },
      {
       "output_type": "stream",
       "stream": "stdout",
       "text": [
        "3764935\n"
       ]
      },
      {
       "output_type": "stream",
       "stream": "stdout",
       "text": [
        "4328761\n"
       ]
      },
      {
       "output_type": "stream",
       "stream": "stdout",
       "text": [
        "4977023\n"
       ]
      },
      {
       "output_type": "stream",
       "stream": "stdout",
       "text": [
        "5722367\n"
       ]
      },
      {
       "output_type": "stream",
       "stream": "stdout",
       "text": [
        "6579332\n"
       ]
      },
      {
       "output_type": "stream",
       "stream": "stdout",
       "text": [
        "7564633\n"
       ]
      },
      {
       "output_type": "stream",
       "stream": "stdout",
       "text": [
        "8697490\n"
       ]
      },
      {
       "output_type": "stream",
       "stream": "stdout",
       "text": [
        "10000000\n"
       ]
      },
      {
       "output_type": "stream",
       "stream": "stdout",
       "text": [
        "[[' Length:           10    MFLOP/s:    1717.4373782720952     '], [' Length:           11    MFLOP/s:    1574.8213418666667     '], [' Length:           13    MFLOP/s:    1882.2335383258337     '], [' Length:           15    MFLOP/s:    1999.2710834289092     '], [' Length:           17    MFLOP/s:    2191.8360779897407     '], [' Length:           20    MFLOP/s:    2225.8330230549864     '], [' Length:           23    MFLOP/s:    2256.5845578468602     '], [' Length:           26    MFLOP/s:    2385.2773663457133     '], [' Length:           30    MFLOP/s:    2392.4729146132613     '], [' Length:           35    MFLOP/s:    2522.8896395661550     '], [' Length:           40    MFLOP/s:    2383.9737554145713     '], [' Length:           46    MFLOP/s:    2497.5791984583375     '], [' Length:           53    MFLOP/s:    2656.2881459785458     '], [' Length:           61    MFLOP/s:    2698.5107528589433     '], [' Length:           70    MFLOP/s:    2372.5355731047853     '], [' Length:           81    MFLOP/s:    2379.9554179750430     '], [' Length:           93    MFLOP/s:    2430.3442998224032     '], [' Length:          107    MFLOP/s:    2481.2191829608155     '], [' Length:          123    MFLOP/s:    2536.6903511479800     '], [' Length:          141    MFLOP/s:    2394.3193463833218     '], [' Length:          162    MFLOP/s:    2461.8741486294912     '], [' Length:          187    MFLOP/s:    2556.9188238605834     '], [' Length:          215    MFLOP/s:    2538.4246518766208     '], [' Length:          247    MFLOP/s:    2572.2982629678600     '], [' Length:          284    MFLOP/s:    2575.5293419430245     '], [' Length:          327    MFLOP/s:    2539.8839879629668     '], [' Length:          376    MFLOP/s:    2545.6954823912924     '], [' Length:          432    MFLOP/s:    2579.2731172908157     '], [' Length:          497    MFLOP/s:    2567.2033842152223     '], [' Length:          572    MFLOP/s:    2567.3000983029424     '], [' Length:          657    MFLOP/s:    2546.8185621820348     '], [' Length:          756    MFLOP/s:    2571.6899602536123     '], [' Length:          869    MFLOP/s:    2610.9241431166420     '], [' Length:         1000    MFLOP/s:    2611.6464131238890     '], [' Length:         1149    MFLOP/s:    2548.5220588917814     '], [' Length:         1321    MFLOP/s:    2574.6634347956788     '], [' Length:         1519    MFLOP/s:    1782.6379369913111     '], [' Length:         1747    MFLOP/s:    2080.4795381147665     '], [' Length:         2009    MFLOP/s:    2286.0435397351939     '], [' Length:         2310    MFLOP/s:    2556.4227803482295     '], [' Length:         2656    MFLOP/s:    2413.3602687419875     '], [' Length:         3053    MFLOP/s:    2423.3933206159631     '], [' Length:         3511    MFLOP/s:    2514.7201977972245     '], [' Length:         4037    MFLOP/s:    2573.3138973143268     '], [' Length:         4641    MFLOP/s:    2652.0115067214110     '], [' Length:         5336    MFLOP/s:    2607.2701652855139     '], [' Length:         6135    MFLOP/s:    2447.8743183567553     '], [' Length:         7054    MFLOP/s:    2654.9372105358088     '], [' Length:         8111    MFLOP/s:    2646.2352119885040     '], [' Length:         9326    MFLOP/s:    2516.4745194007082     '], [' Length:        10722    MFLOP/s:    2111.7265442756425     '], [' Length:        12328    MFLOP/s:    2013.5272234236861     '], [' Length:        14174    MFLOP/s:    1998.7246480949436     '], [' Length:        16297    MFLOP/s:    1875.3997145744047     '], [' Length:        18738    MFLOP/s:    1879.1331743997819     '], [' Length:        21544    MFLOP/s:    1882.5434453333332     '], [' Length:        24770    MFLOP/s:    1865.8927713824482     '], [' Length:        28480    MFLOP/s:    1806.8395874008636     '], [' Length:        32745    MFLOP/s:    1775.0011044127020     '], [' Length:        37649    MFLOP/s:    1873.4736560663914     '], [' Length:        43287    MFLOP/s:    1870.0441047484162     '], [' Length:        49770    MFLOP/s:    1868.1137593328212     '], [' Length:        57223    MFLOP/s:    1827.5664933433943     '], [' Length:        65793    MFLOP/s:    1847.3906785047777     '], [' Length:        75646    MFLOP/s:    1848.4475766409366     '], [' Length:        86974    MFLOP/s:    1832.7743589278718     '], [' Length:       100000    MFLOP/s:    1837.8014660803772     '], [' Length:       114975    MFLOP/s:    1729.7983683152431     '], [' Length:       132194    MFLOP/s:    1756.5826647536687     '], [' Length:       151991    MFLOP/s:    795.59758880226252     '], [' Length:       174752    MFLOP/s:    821.56007293689572     '], [' Length:       200923    MFLOP/s:    790.56734026369463     '], [' Length:       231012    MFLOP/s:    773.69183453131507     '], [' Length:       265608    MFLOP/s:    1225.8370508316805     '], [' Length:       305385    MFLOP/s:    1129.9520935349992     '], [' Length:       351119    MFLOP/s:    797.66136733214444     '], [' Length:       403701    MFLOP/s:    990.15529251069177     '], [' Length:       464158    MFLOP/s:    940.25276857457789     '], [' Length:       533669    MFLOP/s:    892.93638271053260     '], [' Length:       613590    MFLOP/s:    871.45096572423483     '], [' Length:       705480    MFLOP/s:    855.43104264426950     '], [' Length:       811130    MFLOP/s:    854.96360013399055     '], [' Length:       932603    MFLOP/s:    847.36955973300246     '], [' Length:      1072267    MFLOP/s:    840.09286423066226     '], [' Length:      1232846    MFLOP/s:    829.45751720007854     '], [' Length:      1417474    MFLOP/s:    807.73140521615312     '], [' Length:      1629750    MFLOP/s:    819.67779423188642     '], [' Length:      1873817    MFLOP/s:    827.06407897089821     '], [' Length:      2154434    MFLOP/s:    380.36902473282174     '], [' Length:      2477076    MFLOP/s:    810.90978484221091     '], [' Length:      2848035    MFLOP/s:    812.81711035114449     '], [' Length:      3274549    MFLOP/s:    809.93678360826743     '], [' Length:      3764935    MFLOP/s:    832.31724209851177     '], [' Length:      4328761    MFLOP/s:    836.98097824908814     '], [' Length:      4977023    MFLOP/s:    812.57520492479614     '], [' Length:      5722367    MFLOP/s:    842.39562008710266     '], [' Length:      6579332    MFLOP/s:    837.96467661266365     '], [' Length:      7564633    MFLOP/s:    844.17878102734630     '], [' Length:      8697490    MFLOP/s:    810.24654866292201     '], [' Length:     10000000    MFLOP/s:    826.33956069107217     ']]\n"
       ]
      }
     ],
     "prompt_number": 3
    },
    {
     "cell_type": "heading",
     "level": 1,
     "metadata": {},
     "source": [
      "Plotting the results"
     ]
    },
    {
     "cell_type": "code",
     "collapsed": false,
     "input": [
      "%pylab inline\n",
      "import string\n",
      "import matplotlib\n",
      "import matplotlib.pylab as plt\n",
      "import numpy as np\n",
      "\n",
      "length = []\n",
      "mflops = []\n",
      "\n",
      "for i in results:\n",
      "    sl, l, ml, mf = string.split(i[0])\n",
      "    length.append(string.atoi(l))\n",
      "    mflops.append(string.atof(mf))\n",
      "    \n",
      "plt.plot(length, mflops, '-bs', label = '2.4 GHz Intel I7 - laptop running OS X 10.9.4')\n",
      "plt.xlabel('N')\n",
      "plt.ylabel('MFlops/sec')\n",
      "plt.legend(loc=3, shadow=True)\n",
      "plt.xscale('log')\n"
     ],
     "language": "python",
     "metadata": {},
     "outputs": [
      {
       "output_type": "stream",
       "stream": "stdout",
       "text": [
        "Populating the interactive namespace from numpy and matplotlib\n"
       ]
      },
      {
       "metadata": {},
       "output_type": "display_data",
       "png": "[encoded data removed]",
       "text": [
        "<matplotlib.figure.Figure at 0x1108f1a90>"
       ]
      }
     ],
     "prompt_number": 4
    },
    {
     "cell_type": "code",
     "collapsed": false,
     "input": [],
     "language": "python",
     "metadata": {},
     "outputs": []
    }
   ],
   "metadata": {}
  }
 ]
}