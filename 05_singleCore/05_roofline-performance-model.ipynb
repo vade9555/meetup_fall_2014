{
 "metadata": {
  "celltoolbar": "Slideshow",
  "name": "",
  "signature": "sha256:578869c959b1510cd946718d96cb5280e417177a9f8909b6088265d6d3df87ff"
 },
 "nbformat": 3,
 "nbformat_minor": 0,
 "worksheets": [
  {
   "cells": [
    {
     "cell_type": "markdown",
     "metadata": {
      "slideshow": {
       "slide_type": "slide"
      }
     },
     "source": [
      "# Roofline performance model\n",
      "## Peak performance of the Intel Xeon E5 2.7 GHZ \n",
      "\n",
      "- 2.7 GHz clock frequency\n",
      "- 8 FLOPS per clock cycle\n",
      "- for one core\n",
      "\n",
      "$P_{max} \\quad [GFLOPS/sec]$"
     ]
    },
    {
     "cell_type": "code",
     "collapsed": false,
     "input": [
      "P_max = 2.7*8"
     ],
     "language": "python",
     "metadata": {},
     "outputs": [],
     "prompt_number": 1
    },
    {
     "cell_type": "markdown",
     "metadata": {},
     "source": [
      "## Peak memory bandwidth\n",
      "\n",
      "From Intel specifications: \n",
      "http://ark.intel.com/products/64583/Intel-Xeon-Processor-E5-2680-(20M-Cache-2_70-GHz-8_00-GTs-Intel-QPI)\n",
      "\n",
      "$b_{\\rm max} \\quad [GBytes/sec]$ "
     ]
    },
    {
     "cell_type": "code",
     "collapsed": false,
     "input": [
      "b_max = 51.2\n",
      "print b_max"
     ],
     "language": "python",
     "metadata": {},
     "outputs": [
      {
       "output_type": "stream",
       "stream": "stdout",
       "text": [
        "51.2\n"
       ]
      }
     ],
     "prompt_number": 2
    },
    {
     "cell_type": "markdown",
     "metadata": {},
     "source": [
      "## Machine balance\n",
      "\n",
      "$B_m = \\frac{\\text{memory bandwidth [GWords/sec]}}{\\text{peak performance [GFlops/sec]}} = \\frac{b_{max}}{P_{max}}$"
     ]
    },
    {
     "cell_type": "code",
     "collapsed": false,
     "input": [
      "B_m = b_max / P_max / 8.\n",
      "print B_m"
     ],
     "language": "python",
     "metadata": {},
     "outputs": [
      {
       "output_type": "stream",
       "stream": "stdout",
       "text": [
        "0.296296296296\n"
       ]
      }
     ],
     "prompt_number": 3
    },
    {
     "cell_type": "markdown",
     "metadata": {},
     "source": [
      "## Stream bandwidth versus theoretical bandwidth\n",
      "\n",
      "$b_s$ and $\\frac{b_s}{b_{max}}$"
     ]
    },
    {
     "cell_type": "code",
     "collapsed": false,
     "input": [
      "b_s = 10.\n",
      "print b_s"
     ],
     "language": "python",
     "metadata": {},
     "outputs": [
      {
       "output_type": "stream",
       "stream": "stdout",
       "text": [
        "10.0\n"
       ]
      }
     ],
     "prompt_number": 4
    },
    {
     "cell_type": "code",
     "collapsed": false,
     "input": [
      "b_s/b_max"
     ],
     "language": "python",
     "metadata": {},
     "outputs": [
      {
       "metadata": {},
       "output_type": "pyout",
       "prompt_number": 5,
       "text": [
        "0.1953125"
       ]
      }
     ],
     "prompt_number": 5
    },
    {
     "cell_type": "markdown",
     "metadata": {},
     "source": [
      "## Attainable performance\n",
      "\n",
      "\\begin{equation*} \n",
      "\\text{Attainable Performance} = \\min \\left\\{ \\begin{array} {l}\n",
      "\\text{Peak Performance} \\\\\n",
      "\\text{Peak Bandwidth} \\times  \\text{Computational Intensity}\n",
      "\\end{array}  \\right. \\end{equation*}\n",
      "\n",
      "\\begin{equation*} \n",
      "\\text{Arithmetic Intensity} = \\text{floating point ops [Flops]} / \\text{data traffic [Words]}\n",
      "\\end{equation*}"
     ]
    },
    {
     "cell_type": "code",
     "collapsed": false,
     "input": [
      "def ap(i):\n",
      "    return min(P_max, b_s*i)"
     ],
     "language": "python",
     "metadata": {},
     "outputs": [],
     "prompt_number": 6
    },
    {
     "cell_type": "code",
     "collapsed": false,
     "input": [
      "import numpy as np\n",
      "ai_list = [1/8., 1/4., 1/2., 1, 2, 3, 4, 6, 8, 16]\n",
      "p = [ap(x) for x in ai_list]\n",
      "print p"
     ],
     "language": "python",
     "metadata": {},
     "outputs": [
      {
       "output_type": "stream",
       "stream": "stdout",
       "text": [
        "[1.25, 2.5, 5.0, 10.0, 20.0, 21.6, 21.6, 21.6, 21.6, 21.6]\n"
       ]
      }
     ],
     "prompt_number": 8
    },
    {
     "cell_type": "code",
     "collapsed": false,
     "input": [
      "%pylab inline\n",
      "\n",
      "import matplotlib\n",
      "import matplotlib.pyplot as plt\n",
      "\n",
      "plt.plot(ai_list, p,'-b')\n",
      "plt.xscale('log', basex=2)\n",
      "plt.yscale('log', basey=2)\n",
      "plt.xlabel('actual flop:byte ration')\n",
      "plt.ylabel('attainable GFlop/sec')\n",
      "plt.title('Intel Xeon E5 2.7 GHz')\n",
      "plt.grid()"
     ],
     "language": "python",
     "metadata": {},
     "outputs": [
      {
       "output_type": "stream",
       "stream": "stdout",
       "text": [
        "Populating the interactive namespace from numpy and matplotlib\n"
       ]
      },
      {
       "metadata": {},
       "output_type": "display_data",
       "png": "[encoded data removed]",
       "text": [
        "<matplotlib.figure.Figure at 0x10c402790>"
       ]
      }
     ],
     "prompt_number": 11
    },
    {
     "cell_type": "code",
     "collapsed": false,
     "input": [],
     "language": "python",
     "metadata": {},
     "outputs": []
    }
   ],
   "metadata": {}
  }
 ]
}